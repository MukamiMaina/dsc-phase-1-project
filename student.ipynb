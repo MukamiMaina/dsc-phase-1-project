{
 "cells": [
  {
   "cell_type": "markdown",
   "metadata": {},
   "source": [
    "# MICROSOFT MOVIE ANALYSIS\n",
    "* Student name: LISA MUKAMI MAINA\n",
    "* Student pace: Part time "
   ]
  },
  {
   "cell_type": "markdown",
   "metadata": {},
   "source": [
    "## Business Problem\n",
    "Microsoft aims to establish a new movie studio. However, lacking experience in the film industry, they require an analysis of the top-performing film genres at the box office. The goal of this analysis is to extract meaningful insights that can guide decision-making for the head of Microsoft's movie studio, helping them determine the most promising film genres to invest in."
   ]
  },
  {
   "cell_type": "markdown",
   "metadata": {},
   "source": [
    "## Data Understanding\n",
    "Data for this analyis was pulled from:\n",
    "\n",
    "<span style=\"background-color: #d3d3d3; padding: 3px;\">'imdb.title.basics.csv.gz'</span>  \n",
    "* **Source**: The dataset comes from IMDB Website  \n",
    "* **Contents**: Data about movie's primary title, original title, start year, runtime minutes and genres\n",
    "* **Format**: CSV data\n",
    "\n",
    "<span style=\"background-color: #d3d3d3; padding: 3px;\">'imdb.title.ratings.csv.gz'</span>  \n",
    "* **Source**: The dataset comes from IMDB Website  \n",
    "* **Contents**: Data about average rating and number of votes\n",
    "* **Format**: CSV data\n",
    "\n",
    "<span style=\"background-color: #d3d3d3; padding: 3px;\">'bom.movie_gross.csv.gz'</span>  \n",
    "* **Source**: The dataset comes from Box Office Mojo Website  \n",
    "* **Contents**: Data about the movie title, production studio, gross domestic income, gross foreign domestic income and the year\n",
    "* **Format**: CSV data\n",
    "\n",
    "<span style=\"background-color: #d3d3d3; padding: 3px;\">'tn.movie_budgets.csv.gz'</span>  \n",
    "* **Source**: The dataset comes from The Numbers Website  \n",
    "* **Contents**: Data about release date, movie title, production cost, gross domestic income and gross worldwide income \n",
    "* **Format**: CSV data\n"
   ]
  },
  {
   "cell_type": "code",
   "execution_count": 443,
   "metadata": {},
   "outputs": [],
   "source": [
    "# Import standard packages\n",
    "import pandas as pd\n",
    "import numpy as np\n",
    "import matplotlib.pyplot as plt\n",
    "import seaborn as sns\n",
    "\n",
    "%matplotlib inline"
   ]
  },
  {
   "cell_type": "markdown",
   "metadata": {},
   "source": [
    "## IMDB Genre Data"
   ]
  },
  {
   "cell_type": "code",
   "execution_count": 444,
   "metadata": {},
   "outputs": [
    {
     "data": {
      "text/html": [
       "<div>\n",
       "<style scoped>\n",
       "    .dataframe tbody tr th:only-of-type {\n",
       "        vertical-align: middle;\n",
       "    }\n",
       "\n",
       "    .dataframe tbody tr th {\n",
       "        vertical-align: top;\n",
       "    }\n",
       "\n",
       "    .dataframe thead th {\n",
       "        text-align: right;\n",
       "    }\n",
       "</style>\n",
       "<table border=\"1\" class=\"dataframe\">\n",
       "  <thead>\n",
       "    <tr style=\"text-align: right;\">\n",
       "      <th></th>\n",
       "      <th>tconst</th>\n",
       "      <th>primary_title</th>\n",
       "      <th>original_title</th>\n",
       "      <th>start_year</th>\n",
       "      <th>runtime_minutes</th>\n",
       "      <th>genres</th>\n",
       "    </tr>\n",
       "  </thead>\n",
       "  <tbody>\n",
       "    <tr>\n",
       "      <th>0</th>\n",
       "      <td>tt0063540</td>\n",
       "      <td>Sunghursh</td>\n",
       "      <td>Sunghursh</td>\n",
       "      <td>2013</td>\n",
       "      <td>175.0</td>\n",
       "      <td>Action,Crime,Drama</td>\n",
       "    </tr>\n",
       "    <tr>\n",
       "      <th>1</th>\n",
       "      <td>tt0066787</td>\n",
       "      <td>One Day Before the Rainy Season</td>\n",
       "      <td>Ashad Ka Ek Din</td>\n",
       "      <td>2019</td>\n",
       "      <td>114.0</td>\n",
       "      <td>Biography,Drama</td>\n",
       "    </tr>\n",
       "    <tr>\n",
       "      <th>2</th>\n",
       "      <td>tt0069049</td>\n",
       "      <td>The Other Side of the Wind</td>\n",
       "      <td>The Other Side of the Wind</td>\n",
       "      <td>2018</td>\n",
       "      <td>122.0</td>\n",
       "      <td>Drama</td>\n",
       "    </tr>\n",
       "    <tr>\n",
       "      <th>3</th>\n",
       "      <td>tt0069204</td>\n",
       "      <td>Sabse Bada Sukh</td>\n",
       "      <td>Sabse Bada Sukh</td>\n",
       "      <td>2018</td>\n",
       "      <td>NaN</td>\n",
       "      <td>Comedy,Drama</td>\n",
       "    </tr>\n",
       "    <tr>\n",
       "      <th>4</th>\n",
       "      <td>tt0100275</td>\n",
       "      <td>The Wandering Soap Opera</td>\n",
       "      <td>La Telenovela Errante</td>\n",
       "      <td>2017</td>\n",
       "      <td>80.0</td>\n",
       "      <td>Comedy,Drama,Fantasy</td>\n",
       "    </tr>\n",
       "    <tr>\n",
       "      <th>5</th>\n",
       "      <td>tt0111414</td>\n",
       "      <td>A Thin Life</td>\n",
       "      <td>A Thin Life</td>\n",
       "      <td>2018</td>\n",
       "      <td>75.0</td>\n",
       "      <td>Comedy</td>\n",
       "    </tr>\n",
       "    <tr>\n",
       "      <th>6</th>\n",
       "      <td>tt0112502</td>\n",
       "      <td>Bigfoot</td>\n",
       "      <td>Bigfoot</td>\n",
       "      <td>2017</td>\n",
       "      <td>NaN</td>\n",
       "      <td>Horror,Thriller</td>\n",
       "    </tr>\n",
       "    <tr>\n",
       "      <th>7</th>\n",
       "      <td>tt0137204</td>\n",
       "      <td>Joe Finds Grace</td>\n",
       "      <td>Joe Finds Grace</td>\n",
       "      <td>2017</td>\n",
       "      <td>83.0</td>\n",
       "      <td>Adventure,Animation,Comedy</td>\n",
       "    </tr>\n",
       "    <tr>\n",
       "      <th>8</th>\n",
       "      <td>tt0139613</td>\n",
       "      <td>O Silêncio</td>\n",
       "      <td>O Silêncio</td>\n",
       "      <td>2012</td>\n",
       "      <td>NaN</td>\n",
       "      <td>Documentary,History</td>\n",
       "    </tr>\n",
       "    <tr>\n",
       "      <th>9</th>\n",
       "      <td>tt0144449</td>\n",
       "      <td>Nema aviona za Zagreb</td>\n",
       "      <td>Nema aviona za Zagreb</td>\n",
       "      <td>2012</td>\n",
       "      <td>82.0</td>\n",
       "      <td>Biography</td>\n",
       "    </tr>\n",
       "  </tbody>\n",
       "</table>\n",
       "</div>"
      ],
      "text/plain": [
       "      tconst                    primary_title              original_title  \\\n",
       "0  tt0063540                        Sunghursh                   Sunghursh   \n",
       "1  tt0066787  One Day Before the Rainy Season             Ashad Ka Ek Din   \n",
       "2  tt0069049       The Other Side of the Wind  The Other Side of the Wind   \n",
       "3  tt0069204                  Sabse Bada Sukh             Sabse Bada Sukh   \n",
       "4  tt0100275         The Wandering Soap Opera       La Telenovela Errante   \n",
       "5  tt0111414                      A Thin Life                 A Thin Life   \n",
       "6  tt0112502                          Bigfoot                     Bigfoot   \n",
       "7  tt0137204                  Joe Finds Grace             Joe Finds Grace   \n",
       "8  tt0139613                       O Silêncio                  O Silêncio   \n",
       "9  tt0144449            Nema aviona za Zagreb       Nema aviona za Zagreb   \n",
       "\n",
       "   start_year  runtime_minutes                      genres  \n",
       "0        2013            175.0          Action,Crime,Drama  \n",
       "1        2019            114.0             Biography,Drama  \n",
       "2        2018            122.0                       Drama  \n",
       "3        2018              NaN                Comedy,Drama  \n",
       "4        2017             80.0        Comedy,Drama,Fantasy  \n",
       "5        2018             75.0                      Comedy  \n",
       "6        2017              NaN             Horror,Thriller  \n",
       "7        2017             83.0  Adventure,Animation,Comedy  \n",
       "8        2012              NaN         Documentary,History  \n",
       "9        2012             82.0                   Biography  "
      ]
     },
     "execution_count": 444,
     "metadata": {},
     "output_type": "execute_result"
    }
   ],
   "source": [
    "#Define the file path of the data\n",
    "file_path_tbasics = 'zippedData/imdb.title.basics.csv.gz'\n",
    "\n",
    "#Open the file and create a dataframe\n",
    "tbasics_df = pd.read_csv(file_path_tbasics)\n",
    "tbasics_df.head(10)"
   ]
  },
  {
   "cell_type": "code",
   "execution_count": 445,
   "metadata": {},
   "outputs": [
    {
     "name": "stdout",
     "output_type": "stream",
     "text": [
      "<class 'pandas.core.frame.DataFrame'>\n",
      "RangeIndex: 146144 entries, 0 to 146143\n",
      "Data columns (total 6 columns):\n",
      " #   Column           Non-Null Count   Dtype  \n",
      "---  ------           --------------   -----  \n",
      " 0   tconst           146144 non-null  object \n",
      " 1   primary_title    146144 non-null  object \n",
      " 2   original_title   146123 non-null  object \n",
      " 3   start_year       146144 non-null  int64  \n",
      " 4   runtime_minutes  114405 non-null  float64\n",
      " 5   genres           140736 non-null  object \n",
      "dtypes: float64(1), int64(1), object(4)\n",
      "memory usage: 6.7+ MB\n"
     ]
    }
   ],
   "source": [
    "#Obtain the summary statistics of the data\n",
    "tbasics_df.info()"
   ]
  },
  {
   "cell_type": "code",
   "execution_count": 446,
   "metadata": {},
   "outputs": [
    {
     "data": {
      "text/plain": [
       "'\\nThe data types seem to line up with what we expect. The columns\\ncontaining strings are type object, whereas the column containing\\ndecimal numbers (runtime_minutes) is type float64 and the column\\ncontaining whole number (start_year) is type int64\\n\\nThere are missing/NaN values in the original title,runtime_minutes\\nand genres columns\\n\\n'"
      ]
     },
     "execution_count": 446,
     "metadata": {},
     "output_type": "execute_result"
    }
   ],
   "source": [
    "\"\"\"\n",
    "The data types seem to line up with what we expect. The columns\n",
    "containing strings are type object, whereas the column containing\n",
    "decimal numbers (runtime_minutes) is type float64 and the column\n",
    "containing whole number (start_year) is type int64\n",
    "\n",
    "There are missing/NaN values in the original title,runtime_minutes\n",
    "and genres columns\n",
    "\n",
    "\"\"\""
   ]
  },
  {
   "cell_type": "code",
   "execution_count": 447,
   "metadata": {},
   "outputs": [
    {
     "data": {
      "text/plain": [
       "tconst                 0\n",
       "primary_title          0\n",
       "original_title        21\n",
       "start_year             0\n",
       "runtime_minutes    31739\n",
       "genres              5408\n",
       "dtype: int64"
      ]
     },
     "execution_count": 447,
     "metadata": {},
     "output_type": "execute_result"
    }
   ],
   "source": [
    "#Obtain a count of the missing values \n",
    "tbasics_df.isna().sum()"
   ]
  },
  {
   "cell_type": "code",
   "execution_count": 448,
   "metadata": {},
   "outputs": [
    {
     "data": {
      "text/plain": [
       "'\\nThere are 21 missing values in the original_title column,\\n31739 missing values in the runtime_minutes column and\\n5408 missing values in the genres column\\n\\n'"
      ]
     },
     "execution_count": 448,
     "metadata": {},
     "output_type": "execute_result"
    }
   ],
   "source": [
    "\"\"\"\n",
    "There are 21 missing values in the original_title column,\n",
    "31739 missing values in the runtime_minutes column and\n",
    "5408 missing values in the genres column\n",
    "\n",
    "\"\"\""
   ]
  },
  {
   "cell_type": "code",
   "execution_count": 449,
   "metadata": {},
   "outputs": [
    {
     "name": "stdout",
     "output_type": "stream",
     "text": [
      "0\n"
     ]
    }
   ],
   "source": [
    "#Check for duplicates\n",
    "tbasics_duplicates=tbasics_df[tbasics_df.duplicated()] \n",
    "print(len(tbasics_duplicates)) "
   ]
  },
  {
   "cell_type": "code",
   "execution_count": 450,
   "metadata": {},
   "outputs": [
    {
     "data": {
      "text/plain": [
       "'\\nThere are no duplicates\\n\\n'"
      ]
     },
     "execution_count": 450,
     "metadata": {},
     "output_type": "execute_result"
    }
   ],
   "source": [
    "\"\"\"\n",
    "There are no duplicates\n",
    "\n",
    "\"\"\""
   ]
  },
  {
   "cell_type": "code",
   "execution_count": 451,
   "metadata": {},
   "outputs": [
    {
     "name": "stdout",
     "output_type": "stream",
     "text": [
      "tconst \n",
      " tt8443810    0.000007\n",
      "tt4282670    0.000007\n",
      "tt1521002    0.000007\n",
      "tt1701219    0.000007\n",
      "tt7678218    0.000007\n",
      "Name: tconst, dtype: float64 \n",
      "\n",
      "\n",
      "primary_title \n",
      " Home          0.000164\n",
      "The Return    0.000137\n",
      "Broken        0.000137\n",
      "Homecoming    0.000109\n",
      "Alone         0.000109\n",
      "Name: primary_title, dtype: float64 \n",
      "\n",
      "\n",
      "original_title \n",
      " Broken        0.000130\n",
      "Home          0.000123\n",
      "The Return    0.000116\n",
      "Freedom       0.000089\n",
      "Alone         0.000089\n",
      "Name: original_title, dtype: float64 \n",
      "\n",
      "\n",
      "start_year \n",
      " 2017    0.119772\n",
      "2016    0.118185\n",
      "2018    0.115290\n",
      "2015    0.111144\n",
      "2014    0.106669\n",
      "Name: start_year, dtype: float64 \n",
      "\n",
      "\n",
      "runtime_minutes \n",
      " 90.0     0.062331\n",
      "80.0     0.030820\n",
      "85.0     0.025480\n",
      "100.0    0.023268\n",
      "95.0     0.022280\n",
      "Name: runtime_minutes, dtype: float64 \n",
      "\n",
      "\n",
      "genres \n",
      " Documentary     0.228691\n",
      "Drama           0.152669\n",
      "Comedy          0.065207\n",
      "Horror          0.031065\n",
      "Comedy,Drama    0.025004\n",
      "Name: genres, dtype: float64 \n",
      "\n",
      "\n"
     ]
    }
   ],
   "source": [
    "#Check for extraneous/placeholder values\n",
    "for col in tbasics_df.columns:\n",
    "    print(col, '\\n', tbasics_df[col].value_counts(normalize=True).head(), '\\n\\n')"
   ]
  },
  {
   "cell_type": "code",
   "execution_count": 452,
   "metadata": {},
   "outputs": [
    {
     "data": {
      "text/plain": [
       "'\\nThere no placeholder values in the data\\n\\n'"
      ]
     },
     "execution_count": 452,
     "metadata": {},
     "output_type": "execute_result"
    }
   ],
   "source": [
    "\"\"\"\n",
    "There no placeholder values in the data\n",
    "\n",
    "\"\"\""
   ]
  },
  {
   "cell_type": "markdown",
   "metadata": {},
   "source": [
    "## IMDB Data Preparation\n",
    "To obtain the frequency distribution per genre, the relevant column is the <span style=\"background-color: #d3d3d3; padding: 3px;\">'genres'</span> column. However there are 5408 missing values in the <span style=\"background-color: #d3d3d3; padding: 3px;\">'genres'</span> column. Therefore, this missing values need to be handled."
   ]
  },
  {
   "cell_type": "code",
   "execution_count": 453,
   "metadata": {},
   "outputs": [
    {
     "data": {
      "text/plain": [
       "'\\nDrop all of the rows where the genre is missing.\\nWith this option, we reduce the possibility \\nof changing the meaningfulness of the data.\\n\\n'"
      ]
     },
     "execution_count": 453,
     "metadata": {},
     "output_type": "execute_result"
    }
   ],
   "source": [
    "\"\"\"\n",
    "Drop all of the rows where the genre is missing.\n",
    "With this option, we reduce the possibility \n",
    "of changing the meaningfulness of the data.\n",
    "\n",
    "\"\"\""
   ]
  },
  {
   "cell_type": "code",
   "execution_count": 454,
   "metadata": {},
   "outputs": [],
   "source": [
    "#Handling the missing values by dropping the rows containing the missing genre values\n",
    "tbasics_df.dropna(subset=['genres'], inplace=True)"
   ]
  },
  {
   "cell_type": "code",
   "execution_count": 455,
   "metadata": {},
   "outputs": [
    {
     "data": {
      "text/plain": [
       "0"
      ]
     },
     "execution_count": 455,
     "metadata": {},
     "output_type": "execute_result"
    }
   ],
   "source": [
    "#Confirm if there are any missing values\n",
    "tbasics_df['genres'].isna().sum()"
   ]
  },
  {
   "cell_type": "markdown",
   "metadata": {},
   "source": [
    "To obtain frequency distribution of the genres;"
   ]
  },
  {
   "cell_type": "code",
   "execution_count": 456,
   "metadata": {},
   "outputs": [
    {
     "data": {
      "text/plain": [
       "Documentary                    32185\n",
       "Drama                          21486\n",
       "Comedy                          9177\n",
       "Horror                          4372\n",
       "Comedy,Drama                    3519\n",
       "                               ...  \n",
       "Animation,Family,Sport             1\n",
       "Action,Family,Western              1\n",
       "Biography,Family,News              1\n",
       "Animation,Biography,Fantasy        1\n",
       "Family,Fantasy,Western             1\n",
       "Name: genres, Length: 1085, dtype: int64"
      ]
     },
     "execution_count": 456,
     "metadata": {},
     "output_type": "execute_result"
    }
   ],
   "source": [
    "#Obtain the number of films produced per genre\n",
    "genre_counts = tbasics_df['genres'].value_counts()\n",
    "genre_counts"
   ]
  },
  {
   "cell_type": "code",
   "execution_count": 457,
   "metadata": {},
   "outputs": [
    {
     "data": {
      "text/plain": [
       "Documentary                      32185\n",
       "Drama                            21486\n",
       "Comedy                            9177\n",
       "Horror                            4372\n",
       "Comedy,Drama                      3519\n",
       "Thriller                          3046\n",
       "Action                            2219\n",
       "Biography,Documentary             2115\n",
       "Drama,Romance                     2079\n",
       "Comedy,Drama,Romance              1558\n",
       "Documentary,Drama                 1554\n",
       "Comedy,Romance                    1507\n",
       "Romance                           1454\n",
       "Documentary,Music                 1365\n",
       "Drama,Thriller                    1335\n",
       "Documentary,History               1289\n",
       "Horror,Thriller                   1253\n",
       "Biography,Documentary,History     1230\n",
       "Biography,Documentary,Drama       1028\n",
       "Family                             939\n",
       "Name: genres, dtype: int64"
      ]
     },
     "execution_count": 457,
     "metadata": {},
     "output_type": "execute_result"
    }
   ],
   "source": [
    "#Obtain the top 20 genres\n",
    "genre_counts.head(20)"
   ]
  },
  {
   "cell_type": "code",
   "execution_count": 458,
   "metadata": {},
   "outputs": [
    {
     "data": {
      "image/png": "[encoded data removed]",
      "text/plain": [
       "<Figure size 864x432 with 1 Axes>"
      ]
     },
     "metadata": {
      "needs_background": "light"
     },
     "output_type": "display_data"
    }
   ],
   "source": [
    "#Create a plot to visualize your results\n",
    "genre_counts.head(20).plot(kind='bar', figsize=(12,6))\n",
    "plt.title(\"Genre Frequency Distribution\")\n",
    "plt.xlabel(\"Genre\")\n",
    "plt.ylabel(\"Frequency\")\n",
    "plt.show()"
   ]
  },
  {
   "cell_type": "markdown",
   "metadata": {},
   "source": [
    "## IMDB Ratings Data"
   ]
  },
  {
   "cell_type": "code",
   "execution_count": 459,
   "metadata": {},
   "outputs": [
    {
     "data": {
      "text/html": [
       "<div>\n",
       "<style scoped>\n",
       "    .dataframe tbody tr th:only-of-type {\n",
       "        vertical-align: middle;\n",
       "    }\n",
       "\n",
       "    .dataframe tbody tr th {\n",
       "        vertical-align: top;\n",
       "    }\n",
       "\n",
       "    .dataframe thead th {\n",
       "        text-align: right;\n",
       "    }\n",
       "</style>\n",
       "<table border=\"1\" class=\"dataframe\">\n",
       "  <thead>\n",
       "    <tr style=\"text-align: right;\">\n",
       "      <th></th>\n",
       "      <th>tconst</th>\n",
       "      <th>averagerating</th>\n",
       "      <th>numvotes</th>\n",
       "    </tr>\n",
       "  </thead>\n",
       "  <tbody>\n",
       "    <tr>\n",
       "      <th>0</th>\n",
       "      <td>tt10356526</td>\n",
       "      <td>8.3</td>\n",
       "      <td>31</td>\n",
       "    </tr>\n",
       "    <tr>\n",
       "      <th>1</th>\n",
       "      <td>tt10384606</td>\n",
       "      <td>8.9</td>\n",
       "      <td>559</td>\n",
       "    </tr>\n",
       "    <tr>\n",
       "      <th>2</th>\n",
       "      <td>tt1042974</td>\n",
       "      <td>6.4</td>\n",
       "      <td>20</td>\n",
       "    </tr>\n",
       "    <tr>\n",
       "      <th>3</th>\n",
       "      <td>tt1043726</td>\n",
       "      <td>4.2</td>\n",
       "      <td>50352</td>\n",
       "    </tr>\n",
       "    <tr>\n",
       "      <th>4</th>\n",
       "      <td>tt1060240</td>\n",
       "      <td>6.5</td>\n",
       "      <td>21</td>\n",
       "    </tr>\n",
       "  </tbody>\n",
       "</table>\n",
       "</div>"
      ],
      "text/plain": [
       "       tconst  averagerating  numvotes\n",
       "0  tt10356526            8.3        31\n",
       "1  tt10384606            8.9       559\n",
       "2   tt1042974            6.4        20\n",
       "3   tt1043726            4.2     50352\n",
       "4   tt1060240            6.5        21"
      ]
     },
     "execution_count": 459,
     "metadata": {},
     "output_type": "execute_result"
    }
   ],
   "source": [
    "#Define a file path for your data\n",
    "file_path_ratings = 'zippedData/imdb.title.ratings.csv.gz'\n",
    "\n",
    "#Open the data and creat a dataframe\n",
    "ratings_df = pd.read_csv(file_path_ratings)\n",
    "ratings_df.head()"
   ]
  },
  {
   "cell_type": "code",
   "execution_count": 460,
   "metadata": {},
   "outputs": [
    {
     "name": "stdout",
     "output_type": "stream",
     "text": [
      "<class 'pandas.core.frame.DataFrame'>\n",
      "RangeIndex: 73856 entries, 0 to 73855\n",
      "Data columns (total 3 columns):\n",
      " #   Column         Non-Null Count  Dtype  \n",
      "---  ------         --------------  -----  \n",
      " 0   tconst         73856 non-null  object \n",
      " 1   averagerating  73856 non-null  float64\n",
      " 2   numvotes       73856 non-null  int64  \n",
      "dtypes: float64(1), int64(1), object(1)\n",
      "memory usage: 1.7+ MB\n"
     ]
    }
   ],
   "source": [
    "#Obtain the summary statistics\n",
    "ratings_df.info()"
   ]
  },
  {
   "cell_type": "code",
   "execution_count": 461,
   "metadata": {},
   "outputs": [
    {
     "data": {
      "text/plain": [
       "'\\nThe data types seem to line up with what we expect. The columns\\ncontaining strings are type object, whereas the column containing\\ndecimal numbers (averagerating) is type float64 and the column\\ncontaining whole number (numvotes) is type int64\\n\\nThere are no missing/NaN values\\n\\n'"
      ]
     },
     "execution_count": 461,
     "metadata": {},
     "output_type": "execute_result"
    }
   ],
   "source": [
    "\"\"\"\n",
    "The data types seem to line up with what we expect. The columns\n",
    "containing strings are type object, whereas the column containing\n",
    "decimal numbers (averagerating) is type float64 and the column\n",
    "containing whole number (numvotes) is type int64\n",
    "\n",
    "There are no missing/NaN values\n",
    "\n",
    "\"\"\""
   ]
  },
  {
   "cell_type": "code",
   "execution_count": 462,
   "metadata": {},
   "outputs": [
    {
     "name": "stdout",
     "output_type": "stream",
     "text": [
      "0\n"
     ]
    }
   ],
   "source": [
    "#Check for duplicates\n",
    "ratings_duplicates = ratings_df[ratings_df.duplicated()] \n",
    "print(len(ratings_duplicates)) "
   ]
  },
  {
   "cell_type": "code",
   "execution_count": 463,
   "metadata": {},
   "outputs": [
    {
     "data": {
      "text/plain": [
       "'\\nThere are no duplicate rows\\n\\n'"
      ]
     },
     "execution_count": 463,
     "metadata": {},
     "output_type": "execute_result"
    }
   ],
   "source": [
    "\"\"\"\n",
    "There are no duplicate rows\n",
    "\n",
    "\"\"\""
   ]
  },
  {
   "cell_type": "code",
   "execution_count": 464,
   "metadata": {},
   "outputs": [
    {
     "name": "stdout",
     "output_type": "stream",
     "text": [
      "tconst \n",
      " tt2448866    0.000014\n",
      "tt5633600    0.000014\n",
      "tt5336548    0.000014\n",
      "tt3533592    0.000014\n",
      "tt3431016    0.000014\n",
      "Name: tconst, dtype: float64 \n",
      "\n",
      "\n",
      "averagerating \n",
      " 7.0    0.030627\n",
      "6.6    0.030478\n",
      "7.2    0.030451\n",
      "6.8    0.030316\n",
      "6.5    0.030072\n",
      "Name: averagerating, dtype: float64 \n",
      "\n",
      "\n",
      "numvotes \n",
      " 6    0.038927\n",
      "5    0.036544\n",
      "7    0.033525\n",
      "8    0.029341\n",
      "9    0.026118\n",
      "Name: numvotes, dtype: float64 \n",
      "\n",
      "\n"
     ]
    }
   ],
   "source": [
    "#Check for extraneous/placeholder values\n",
    "for col in ratings_df.columns:\n",
    "    print(col, '\\n', ratings_df[col].value_counts(normalize=True).head(), '\\n\\n') \n",
    "    "
   ]
  },
  {
   "cell_type": "code",
   "execution_count": 465,
   "metadata": {},
   "outputs": [
    {
     "data": {
      "text/plain": [
       "'\\nThere are no placeholder values\\n\\n'"
      ]
     },
     "execution_count": 465,
     "metadata": {},
     "output_type": "execute_result"
    }
   ],
   "source": [
    "\"\"\"\n",
    "There are no placeholder values\n",
    "\n",
    "\"\"\""
   ]
  },
  {
   "cell_type": "markdown",
   "metadata": {},
   "source": [
    "## Data Aggregation\n",
    "We need to find out the average rating per genre and the number of votes per genre. To do this, we need information about the genres which is contained in <span style=\"background-color: #d3d3d3; padding: 3px;\">tbasics_df</span>. \n",
    "\n",
    "Both dataframes have a shared key <span style=\"background-color: #d3d3d3; padding: 3px;\">'tconst'</span>.\n",
    "\n",
    "We can therefore merge the dataframes-<span style=\"background-color: #d3d3d3; padding: 3px;\">tbasics_df</span> and <span style=\"background-color: #d3d3d3; padding: 3px;\">ratings_df</span> by their shared key "
   ]
  },
  {
   "cell_type": "code",
   "execution_count": 466,
   "metadata": {},
   "outputs": [
    {
     "data": {
      "text/html": [
       "<div>\n",
       "<style scoped>\n",
       "    .dataframe tbody tr th:only-of-type {\n",
       "        vertical-align: middle;\n",
       "    }\n",
       "\n",
       "    .dataframe tbody tr th {\n",
       "        vertical-align: top;\n",
       "    }\n",
       "\n",
       "    .dataframe thead th {\n",
       "        text-align: right;\n",
       "    }\n",
       "</style>\n",
       "<table border=\"1\" class=\"dataframe\">\n",
       "  <thead>\n",
       "    <tr style=\"text-align: right;\">\n",
       "      <th></th>\n",
       "      <th>tconst</th>\n",
       "      <th>primary_title</th>\n",
       "      <th>original_title</th>\n",
       "      <th>start_year</th>\n",
       "      <th>runtime_minutes</th>\n",
       "      <th>genres</th>\n",
       "      <th>averagerating</th>\n",
       "      <th>numvotes</th>\n",
       "    </tr>\n",
       "  </thead>\n",
       "  <tbody>\n",
       "    <tr>\n",
       "      <th>0</th>\n",
       "      <td>tt0063540</td>\n",
       "      <td>Sunghursh</td>\n",
       "      <td>Sunghursh</td>\n",
       "      <td>2013</td>\n",
       "      <td>175.0</td>\n",
       "      <td>Action,Crime,Drama</td>\n",
       "      <td>7.0</td>\n",
       "      <td>77</td>\n",
       "    </tr>\n",
       "    <tr>\n",
       "      <th>1</th>\n",
       "      <td>tt0066787</td>\n",
       "      <td>One Day Before the Rainy Season</td>\n",
       "      <td>Ashad Ka Ek Din</td>\n",
       "      <td>2019</td>\n",
       "      <td>114.0</td>\n",
       "      <td>Biography,Drama</td>\n",
       "      <td>7.2</td>\n",
       "      <td>43</td>\n",
       "    </tr>\n",
       "    <tr>\n",
       "      <th>2</th>\n",
       "      <td>tt0069049</td>\n",
       "      <td>The Other Side of the Wind</td>\n",
       "      <td>The Other Side of the Wind</td>\n",
       "      <td>2018</td>\n",
       "      <td>122.0</td>\n",
       "      <td>Drama</td>\n",
       "      <td>6.9</td>\n",
       "      <td>4517</td>\n",
       "    </tr>\n",
       "    <tr>\n",
       "      <th>3</th>\n",
       "      <td>tt0069204</td>\n",
       "      <td>Sabse Bada Sukh</td>\n",
       "      <td>Sabse Bada Sukh</td>\n",
       "      <td>2018</td>\n",
       "      <td>NaN</td>\n",
       "      <td>Comedy,Drama</td>\n",
       "      <td>6.1</td>\n",
       "      <td>13</td>\n",
       "    </tr>\n",
       "    <tr>\n",
       "      <th>4</th>\n",
       "      <td>tt0100275</td>\n",
       "      <td>The Wandering Soap Opera</td>\n",
       "      <td>La Telenovela Errante</td>\n",
       "      <td>2017</td>\n",
       "      <td>80.0</td>\n",
       "      <td>Comedy,Drama,Fantasy</td>\n",
       "      <td>6.5</td>\n",
       "      <td>119</td>\n",
       "    </tr>\n",
       "    <tr>\n",
       "      <th>...</th>\n",
       "      <td>...</td>\n",
       "      <td>...</td>\n",
       "      <td>...</td>\n",
       "      <td>...</td>\n",
       "      <td>...</td>\n",
       "      <td>...</td>\n",
       "      <td>...</td>\n",
       "      <td>...</td>\n",
       "    </tr>\n",
       "    <tr>\n",
       "      <th>73047</th>\n",
       "      <td>tt9913056</td>\n",
       "      <td>Swarm Season</td>\n",
       "      <td>Swarm Season</td>\n",
       "      <td>2019</td>\n",
       "      <td>86.0</td>\n",
       "      <td>Documentary</td>\n",
       "      <td>6.2</td>\n",
       "      <td>5</td>\n",
       "    </tr>\n",
       "    <tr>\n",
       "      <th>73048</th>\n",
       "      <td>tt9913084</td>\n",
       "      <td>Diabolik sono io</td>\n",
       "      <td>Diabolik sono io</td>\n",
       "      <td>2019</td>\n",
       "      <td>75.0</td>\n",
       "      <td>Documentary</td>\n",
       "      <td>6.2</td>\n",
       "      <td>6</td>\n",
       "    </tr>\n",
       "    <tr>\n",
       "      <th>73049</th>\n",
       "      <td>tt9914286</td>\n",
       "      <td>Sokagin Çocuklari</td>\n",
       "      <td>Sokagin Çocuklari</td>\n",
       "      <td>2019</td>\n",
       "      <td>98.0</td>\n",
       "      <td>Drama,Family</td>\n",
       "      <td>8.7</td>\n",
       "      <td>136</td>\n",
       "    </tr>\n",
       "    <tr>\n",
       "      <th>73050</th>\n",
       "      <td>tt9914642</td>\n",
       "      <td>Albatross</td>\n",
       "      <td>Albatross</td>\n",
       "      <td>2017</td>\n",
       "      <td>NaN</td>\n",
       "      <td>Documentary</td>\n",
       "      <td>8.5</td>\n",
       "      <td>8</td>\n",
       "    </tr>\n",
       "    <tr>\n",
       "      <th>73051</th>\n",
       "      <td>tt9916160</td>\n",
       "      <td>Drømmeland</td>\n",
       "      <td>Drømmeland</td>\n",
       "      <td>2019</td>\n",
       "      <td>72.0</td>\n",
       "      <td>Documentary</td>\n",
       "      <td>6.5</td>\n",
       "      <td>11</td>\n",
       "    </tr>\n",
       "  </tbody>\n",
       "</table>\n",
       "<p>73052 rows × 8 columns</p>\n",
       "</div>"
      ],
      "text/plain": [
       "          tconst                    primary_title              original_title  \\\n",
       "0      tt0063540                        Sunghursh                   Sunghursh   \n",
       "1      tt0066787  One Day Before the Rainy Season             Ashad Ka Ek Din   \n",
       "2      tt0069049       The Other Side of the Wind  The Other Side of the Wind   \n",
       "3      tt0069204                  Sabse Bada Sukh             Sabse Bada Sukh   \n",
       "4      tt0100275         The Wandering Soap Opera       La Telenovela Errante   \n",
       "...          ...                              ...                         ...   \n",
       "73047  tt9913056                     Swarm Season                Swarm Season   \n",
       "73048  tt9913084                 Diabolik sono io            Diabolik sono io   \n",
       "73049  tt9914286                Sokagin Çocuklari           Sokagin Çocuklari   \n",
       "73050  tt9914642                        Albatross                   Albatross   \n",
       "73051  tt9916160                       Drømmeland                  Drømmeland   \n",
       "\n",
       "       start_year  runtime_minutes                genres  averagerating  \\\n",
       "0            2013            175.0    Action,Crime,Drama            7.0   \n",
       "1            2019            114.0       Biography,Drama            7.2   \n",
       "2            2018            122.0                 Drama            6.9   \n",
       "3            2018              NaN          Comedy,Drama            6.1   \n",
       "4            2017             80.0  Comedy,Drama,Fantasy            6.5   \n",
       "...           ...              ...                   ...            ...   \n",
       "73047        2019             86.0           Documentary            6.2   \n",
       "73048        2019             75.0           Documentary            6.2   \n",
       "73049        2019             98.0          Drama,Family            8.7   \n",
       "73050        2017              NaN           Documentary            8.5   \n",
       "73051        2019             72.0           Documentary            6.5   \n",
       "\n",
       "       numvotes  \n",
       "0            77  \n",
       "1            43  \n",
       "2          4517  \n",
       "3            13  \n",
       "4           119  \n",
       "...         ...  \n",
       "73047         5  \n",
       "73048         6  \n",
       "73049       136  \n",
       "73050         8  \n",
       "73051        11  \n",
       "\n",
       "[73052 rows x 8 columns]"
      ]
     },
     "execution_count": 466,
     "metadata": {},
     "output_type": "execute_result"
    }
   ],
   "source": [
    "merged_df = pd.merge(tbasics_df, ratings_df, on='tconst', how='inner')\n",
    "merged_df"
   ]
  },
  {
   "cell_type": "code",
   "execution_count": 467,
   "metadata": {},
   "outputs": [
    {
     "name": "stdout",
     "output_type": "stream",
     "text": [
      "<class 'pandas.core.frame.DataFrame'>\n",
      "Int64Index: 73052 entries, 0 to 73051\n",
      "Data columns (total 8 columns):\n",
      " #   Column           Non-Null Count  Dtype  \n",
      "---  ------           --------------  -----  \n",
      " 0   tconst           73052 non-null  object \n",
      " 1   primary_title    73052 non-null  object \n",
      " 2   original_title   73052 non-null  object \n",
      " 3   start_year       73052 non-null  int64  \n",
      " 4   runtime_minutes  65720 non-null  float64\n",
      " 5   genres           73052 non-null  object \n",
      " 6   averagerating    73052 non-null  float64\n",
      " 7   numvotes         73052 non-null  int64  \n",
      "dtypes: float64(2), int64(2), object(4)\n",
      "memory usage: 5.0+ MB\n"
     ]
    }
   ],
   "source": [
    "#Obtain summary statistics of the new dataframe\n",
    "merged_df.info()"
   ]
  },
  {
   "cell_type": "code",
   "execution_count": 468,
   "metadata": {},
   "outputs": [
    {
     "data": {
      "text/plain": [
       "'\\nThe data types seem to line up with what we expect. The columns\\ncontaining strings are type object, whereas the column containing\\ndecimal numbers (runtime_minutes, averagerating) is type float64 \\nand the columns containing whole number (start_year, numvotes) is \\ntype int64\\n\\nThere are no missing/NaN values.\\n\\n'"
      ]
     },
     "execution_count": 468,
     "metadata": {},
     "output_type": "execute_result"
    }
   ],
   "source": [
    "\"\"\"\n",
    "The data types seem to line up with what we expect. The columns\n",
    "containing strings are type object, whereas the column containing\n",
    "decimal numbers (runtime_minutes, averagerating) is type float64 \n",
    "and the columns containing whole number (start_year, numvotes) is \n",
    "type int64\n",
    "\n",
    "There are no missing/NaN values.\n",
    "\n",
    "\"\"\""
   ]
  },
  {
   "cell_type": "code",
   "execution_count": 469,
   "metadata": {},
   "outputs": [
    {
     "name": "stdout",
     "output_type": "stream",
     "text": [
      "0\n"
     ]
    }
   ],
   "source": [
    "#Check for duplicates\n",
    "merged_duplicates = merged_df[merged_df.duplicated()] \n",
    "print(len(merged_duplicates)) "
   ]
  },
  {
   "cell_type": "code",
   "execution_count": 470,
   "metadata": {},
   "outputs": [
    {
     "data": {
      "text/plain": [
       "'\\nThere are no duplicated rows.\\n\\n'"
      ]
     },
     "execution_count": 470,
     "metadata": {},
     "output_type": "execute_result"
    }
   ],
   "source": [
    "\"\"\"\n",
    "There are no duplicated rows.\n",
    "\n",
    "\"\"\""
   ]
  },
  {
   "cell_type": "code",
   "execution_count": 471,
   "metadata": {},
   "outputs": [
    {
     "name": "stdout",
     "output_type": "stream",
     "text": [
      "tconst \n",
      " tt4986754    0.000014\n",
      "tt4734108    0.000014\n",
      "tt3553354    0.000014\n",
      "tt3270108    0.000014\n",
      "tt1412441    0.000014\n",
      "Name: tconst, dtype: float64 \n",
      "\n",
      "\n",
      "primary_title \n",
      " The Return    0.000151\n",
      "Broken        0.000137\n",
      "Homecoming    0.000123\n",
      "Together      0.000123\n",
      "Lucky         0.000123\n",
      "Name: primary_title, dtype: float64 \n",
      "\n",
      "\n",
      "original_title \n",
      " Lucky         0.000123\n",
      "Broken        0.000123\n",
      "Delirium      0.000110\n",
      "The Gift      0.000110\n",
      "The Return    0.000110\n",
      "Name: original_title, dtype: float64 \n",
      "\n",
      "\n",
      "start_year \n",
      " 2017    0.118245\n",
      "2016    0.117902\n",
      "2015    0.115055\n",
      "2014    0.113193\n",
      "2013    0.108211\n",
      "Name: start_year, dtype: float64 \n",
      "\n",
      "\n",
      "runtime_minutes \n",
      " 90.0     0.071789\n",
      "80.0     0.032593\n",
      "85.0     0.031163\n",
      "100.0    0.029732\n",
      "95.0     0.029200\n",
      "Name: runtime_minutes, dtype: float64 \n",
      "\n",
      "\n",
      "genres \n",
      " Drama           0.158955\n",
      "Documentary     0.141173\n",
      "Comedy          0.076836\n",
      "Horror          0.036850\n",
      "Comedy,Drama    0.035824\n",
      "Name: genres, dtype: float64 \n",
      "\n",
      "\n",
      "averagerating \n",
      " 7.0    0.030513\n",
      "6.6    0.030403\n",
      "7.2    0.030348\n",
      "6.8    0.030335\n",
      "6.5    0.030184\n",
      "Name: averagerating, dtype: float64 \n",
      "\n",
      "\n",
      "numvotes \n",
      " 6    0.038206\n",
      "5    0.035660\n",
      "7    0.033113\n",
      "8    0.028842\n",
      "9    0.025585\n",
      "Name: numvotes, dtype: float64 \n",
      "\n",
      "\n"
     ]
    }
   ],
   "source": [
    "#Check for extraneous/placeholder values\n",
    "for col in merged_df.columns:\n",
    "    print(col, '\\n', merged_df[col].value_counts(normalize=True).head(), '\\n\\n')     "
   ]
  },
  {
   "cell_type": "code",
   "execution_count": 472,
   "metadata": {},
   "outputs": [
    {
     "data": {
      "text/plain": [
       "'\\nThere are no placeholder values.\\n\\n'"
      ]
     },
     "execution_count": 472,
     "metadata": {},
     "output_type": "execute_result"
    }
   ],
   "source": [
    "\"\"\"\n",
    "There are no placeholder values.\n",
    "\n",
    "\"\"\""
   ]
  },
  {
   "cell_type": "code",
   "execution_count": 473,
   "metadata": {},
   "outputs": [
    {
     "name": "stdout",
     "output_type": "stream",
     "text": [
      "6.330930022449761\n",
      "6.5\n",
      "1.474699374814549\n"
     ]
    },
    {
     "data": {
      "image/png": "[encoded data removed]",
      "text/plain": [
       "<Figure size 432x288 with 1 Axes>"
      ]
     },
     "metadata": {
      "needs_background": "light"
     },
     "output_type": "display_data"
    }
   ],
   "source": [
    "#Obtain the descriptive statistics of the average rating\n",
    "print(merged_df['averagerating'].mean())\n",
    "print(merged_df['averagerating'].median())\n",
    "print(merged_df['averagerating'].std())\n",
    "\n",
    "#Create a plot to visualize the frequency distribution of the average ratings\n",
    "merged_df['averagerating'].plot(kind='hist')\n",
    "plt.title(\"Average Rating Frequency Distribution\")\n",
    "plt.xlabel(\"Average Rating\")\n",
    "plt.ylabel(\"Frequency\")\n",
    "plt.show()"
   ]
  },
  {
   "cell_type": "code",
   "execution_count": 474,
   "metadata": {},
   "outputs": [
    {
     "name": "stdout",
     "output_type": "stream",
     "text": [
      "3562.1726304550184\n",
      "50.0\n",
      "30458.037566443305\n"
     ]
    },
    {
     "data": {
      "image/png": "[encoded data removed]",
      "text/plain": [
       "<Figure size 432x288 with 1 Axes>"
      ]
     },
     "metadata": {
      "needs_background": "light"
     },
     "output_type": "display_data"
    }
   ],
   "source": [
    "print(merged_df['numvotes'].mean())\n",
    "print(merged_df['numvotes'].median())\n",
    "print(merged_df['numvotes'].std())\n",
    "\n",
    "data = merged_df['numvotes']\n",
    "plt.boxplot(data=data, x=data.values)\n",
    "\n",
    "plt.title(\"Number of votes\")\n",
    "plt.show()"
   ]
  },
  {
   "cell_type": "markdown",
   "metadata": {},
   "source": [
    "## Data Preparation\n",
    "To find out the average rating per genre and hence obtain information on the highly rated genres, we will need to group our data from the <span style=\"background-color: #d3d3d3; padding: 3px;\">'genres'</span> column by average rating.\n",
    "\n",
    "However from our data, we see that we have varying number of votes for various genres and this might have a significant influence on the average rating. \n",
    "\n",
    "To handle this, we shall calculate the weighted average rating per genre to ensure a balanced aggregation that takes into account the varying number of votes\n"
   ]
  },
  {
   "cell_type": "code",
   "execution_count": 475,
   "metadata": {},
   "outputs": [
    {
     "data": {
      "text/plain": [
       "genres\n",
       "Comedy,Documentary,Fantasy    9.400000\n",
       "Documentary,Family,Musical    9.300000\n",
       "History,Sport                 9.200000\n",
       "Game-Show                     9.000000\n",
       "Music,Mystery                 9.000000\n",
       "                                ...   \n",
       "Adventure,Crime,Romance       2.300000\n",
       "History,Sci-Fi,Thriller       2.300000\n",
       "Crime,Mystery                 2.057394\n",
       "Adult,Horror                  2.000000\n",
       "Comedy,Musical,Sport          1.400000\n",
       "Length: 923, dtype: float64"
      ]
     },
     "execution_count": 475,
     "metadata": {},
     "output_type": "execute_result"
    }
   ],
   "source": [
    "#Obtain the weighted average rating per genre\n",
    "weighted_average_rating = merged_df.groupby('genres').apply(lambda x: (x['averagerating'] * x['numvotes']).sum() / x['numvotes'].sum()).sort_values(ascending=False)\n",
    "weighted_average_rating"
   ]
  },
  {
   "cell_type": "code",
   "execution_count": 476,
   "metadata": {},
   "outputs": [
    {
     "data": {
      "text/plain": [
       "genres\n",
       "Comedy,Documentary,Fantasy     9.400000\n",
       "Documentary,Family,Musical     9.300000\n",
       "History,Sport                  9.200000\n",
       "Game-Show                      9.000000\n",
       "Music,Mystery                  9.000000\n",
       "Documentary,News,Reality-TV    8.800000\n",
       "Documentary,News,Sport         8.800000\n",
       "Comedy,Drama,Reality-TV        8.800000\n",
       "Drama,Short                    8.800000\n",
       "Drama,Fantasy,War              8.800000\n",
       "Documentary,Music,War          8.709822\n",
       "Action,Adventure,Musical       8.700000\n",
       "Adventure,Drama,War            8.636549\n",
       "Documentary,Family,Romance     8.574138\n",
       "Biography,History,Music        8.500000\n",
       "Adventure,Crime                8.500000\n",
       "Comedy,Documentary,Sci-Fi      8.500000\n",
       "Action,Documentary,Family      8.438554\n",
       "Mystery,News,Thriller          8.400000\n",
       "Music,Musical,Romance          8.400000\n",
       "dtype: float64"
      ]
     },
     "execution_count": 476,
     "metadata": {},
     "output_type": "execute_result"
    }
   ],
   "source": [
    "#Obtain the top 20 genre by weighted average rating\n",
    "weighted_average_rating.head(20)"
   ]
  },
  {
   "cell_type": "code",
   "execution_count": 477,
   "metadata": {},
   "outputs": [
    {
     "data": {
      "image/png": "[encoded data removed]",
      "text/plain": [
       "<Figure size 864x432 with 1 Axes>"
      ]
     },
     "metadata": {
      "needs_background": "light"
     },
     "output_type": "display_data"
    }
   ],
   "source": [
    "#Visualize your results\n",
    "plt.figure(figsize=(12, 6))\n",
    "\n",
    "data=weighted_average_rating.head(20)\n",
    "\n",
    "sns.barplot(data=weighted_average_rating.head(20).reset_index(), x=data.values, y=data.index, palette=\"viridis\")\n",
    "\n",
    "plt.xlabel(\"Average Rating\")\n",
    "plt.ylabel(\"Genres\")\n",
    "plt.title(\"Average Rating by Genre\")\n",
    "plt.show()"
   ]
  },
  {
   "cell_type": "markdown",
   "metadata": {},
   "source": [
    "Find out the total number of votes per genre"
   ]
  },
  {
   "cell_type": "code",
   "execution_count": 478,
   "metadata": {
    "scrolled": true
   },
   "outputs": [
    {
     "data": {
      "text/plain": [
       "genres\n",
       "Action,Adventure,Sci-Fi       23023248\n",
       "Action,Adventure,Fantasy       9658883\n",
       "Adventure,Animation,Comedy     8687435\n",
       "Drama                          8395521\n",
       "Comedy,Drama,Romance           7665463\n",
       "                                ...   \n",
       "Crime,Western                        5\n",
       "Horror,Musical,Romance               5\n",
       "Comedy,Documentary,Fantasy           5\n",
       "Family,War                           5\n",
       "History,Sport                        5\n",
       "Name: numvotes, Length: 923, dtype: int64"
      ]
     },
     "execution_count": 478,
     "metadata": {},
     "output_type": "execute_result"
    }
   ],
   "source": [
    "votes_per_genre = merged_df.groupby('genres')['numvotes'].sum().sort_values(ascending=False)\n",
    "votes_per_genre"
   ]
  },
  {
   "cell_type": "code",
   "execution_count": 479,
   "metadata": {},
   "outputs": [
    {
     "data": {
      "text/plain": [
       "genres\n",
       "Action,Adventure,Sci-Fi       23023248\n",
       "Action,Adventure,Fantasy       9658883\n",
       "Adventure,Animation,Comedy     8687435\n",
       "Drama                          8395521\n",
       "Comedy,Drama,Romance           7665463\n",
       "Action,Adventure,Comedy        7256686\n",
       "Comedy                         6832037\n",
       "Comedy,Drama                   6462839\n",
       "Action,Crime,Drama             5563553\n",
       "Drama,Romance                  5542760\n",
       "Action,Crime,Thriller          4940335\n",
       "Comedy,Romance                 4752398\n",
       "Action,Comedy,Crime            4686559\n",
       "Action,Adventure,Drama         4485443\n",
       "Action,Thriller                4284464\n",
       "Horror,Mystery,Thriller        3902882\n",
       "Drama,Thriller                 3879354\n",
       "Action,Adventure,Thriller      3748240\n",
       "Action,Adventure,Animation     3570543\n",
       "Biography,Drama,History        3502843\n",
       "Name: numvotes, dtype: int64"
      ]
     },
     "execution_count": 479,
     "metadata": {},
     "output_type": "execute_result"
    }
   ],
   "source": [
    "#Obtain the top 20 genres by number of votes\n",
    "votes_per_genre.head(20)"
   ]
  },
  {
   "cell_type": "code",
   "execution_count": 480,
   "metadata": {},
   "outputs": [
    {
     "data": {
      "image/png": "[encoded data removed]",
      "text/plain": [
       "<Figure size 864x432 with 1 Axes>"
      ]
     },
     "metadata": {
      "needs_background": "light"
     },
     "output_type": "display_data"
    }
   ],
   "source": [
    "#Create a plot to visualize your results\n",
    "plt.figure(figsize=(12, 6))\n",
    "\n",
    "data=votes_per_genre.head(20) \n",
    "\n",
    "sns.barplot(data=votes_per_genre.head(20).reset_index(), x=data.values, y=data.index, palette=\"viridis\")\n",
    "\n",
    "plt.xlabel(\"Votes\")\n",
    "plt.ylabel(\"Genres\")\n",
    "plt.title(\"Votes by Genre\")\n",
    "\n",
    "plt.show()"
   ]
  },
  {
   "cell_type": "markdown",
   "metadata": {},
   "source": [
    "## Box Office Mojo Data"
   ]
  },
  {
   "cell_type": "code",
   "execution_count": 481,
   "metadata": {},
   "outputs": [
    {
     "data": {
      "text/html": [
       "<div>\n",
       "<style scoped>\n",
       "    .dataframe tbody tr th:only-of-type {\n",
       "        vertical-align: middle;\n",
       "    }\n",
       "\n",
       "    .dataframe tbody tr th {\n",
       "        vertical-align: top;\n",
       "    }\n",
       "\n",
       "    .dataframe thead th {\n",
       "        text-align: right;\n",
       "    }\n",
       "</style>\n",
       "<table border=\"1\" class=\"dataframe\">\n",
       "  <thead>\n",
       "    <tr style=\"text-align: right;\">\n",
       "      <th></th>\n",
       "      <th>title</th>\n",
       "      <th>studio</th>\n",
       "      <th>domestic_gross</th>\n",
       "      <th>foreign_gross</th>\n",
       "      <th>year</th>\n",
       "    </tr>\n",
       "  </thead>\n",
       "  <tbody>\n",
       "    <tr>\n",
       "      <th>0</th>\n",
       "      <td>Toy Story 3</td>\n",
       "      <td>BV</td>\n",
       "      <td>415000000.0</td>\n",
       "      <td>652000000</td>\n",
       "      <td>2010</td>\n",
       "    </tr>\n",
       "    <tr>\n",
       "      <th>1</th>\n",
       "      <td>Alice in Wonderland (2010)</td>\n",
       "      <td>BV</td>\n",
       "      <td>334200000.0</td>\n",
       "      <td>691300000</td>\n",
       "      <td>2010</td>\n",
       "    </tr>\n",
       "    <tr>\n",
       "      <th>2</th>\n",
       "      <td>Harry Potter and the Deathly Hallows Part 1</td>\n",
       "      <td>WB</td>\n",
       "      <td>296000000.0</td>\n",
       "      <td>664300000</td>\n",
       "      <td>2010</td>\n",
       "    </tr>\n",
       "    <tr>\n",
       "      <th>3</th>\n",
       "      <td>Inception</td>\n",
       "      <td>WB</td>\n",
       "      <td>292600000.0</td>\n",
       "      <td>535700000</td>\n",
       "      <td>2010</td>\n",
       "    </tr>\n",
       "    <tr>\n",
       "      <th>4</th>\n",
       "      <td>Shrek Forever After</td>\n",
       "      <td>P/DW</td>\n",
       "      <td>238700000.0</td>\n",
       "      <td>513900000</td>\n",
       "      <td>2010</td>\n",
       "    </tr>\n",
       "  </tbody>\n",
       "</table>\n",
       "</div>"
      ],
      "text/plain": [
       "                                         title studio  domestic_gross  \\\n",
       "0                                  Toy Story 3     BV     415000000.0   \n",
       "1                   Alice in Wonderland (2010)     BV     334200000.0   \n",
       "2  Harry Potter and the Deathly Hallows Part 1     WB     296000000.0   \n",
       "3                                    Inception     WB     292600000.0   \n",
       "4                          Shrek Forever After   P/DW     238700000.0   \n",
       "\n",
       "  foreign_gross  year  \n",
       "0     652000000  2010  \n",
       "1     691300000  2010  \n",
       "2     664300000  2010  \n",
       "3     535700000  2010  \n",
       "4     513900000  2010  "
      ]
     },
     "execution_count": 481,
     "metadata": {},
     "output_type": "execute_result"
    }
   ],
   "source": [
    "#Define the file path\n",
    "file_path = \"zippedData/bom.movie_gross.csv.gz\"\n",
    "\n",
    "#Open file and load data into pandas\n",
    "bom_df = pd.read_csv(file_path)\n",
    "bom_df.head()"
   ]
  },
  {
   "cell_type": "code",
   "execution_count": 482,
   "metadata": {},
   "outputs": [
    {
     "name": "stdout",
     "output_type": "stream",
     "text": [
      "<class 'pandas.core.frame.DataFrame'>\n",
      "RangeIndex: 3387 entries, 0 to 3386\n",
      "Data columns (total 5 columns):\n",
      " #   Column          Non-Null Count  Dtype  \n",
      "---  ------          --------------  -----  \n",
      " 0   title           3387 non-null   object \n",
      " 1   studio          3382 non-null   object \n",
      " 2   domestic_gross  3359 non-null   float64\n",
      " 3   foreign_gross   2037 non-null   object \n",
      " 4   year            3387 non-null   int64  \n",
      "dtypes: float64(1), int64(1), object(3)\n",
      "memory usage: 132.4+ KB\n"
     ]
    }
   ],
   "source": [
    "bom_df.info()"
   ]
  },
  {
   "cell_type": "code",
   "execution_count": 483,
   "metadata": {},
   "outputs": [
    {
     "data": {
      "text/plain": [
       "'\\nFour of the data types seem to line up with what we expect. \\nThe columns containing strings are type object, whereas the\\ncolumn containing decimal numbers (domestic_gross) is type \\nfloat64 and the columns containing whole number (year) is \\ntype int64. The data type of the foreign_gross column does\\nnot line up with what we expect. Data type of foreign_gross\\nwill need to be changed\\n\\nThere are missing/NaN values on the studio, domestic_gross\\nand foreign_gross columns. These missing values will need\\nto be handled\\n\\n'"
      ]
     },
     "execution_count": 483,
     "metadata": {},
     "output_type": "execute_result"
    }
   ],
   "source": [
    "\"\"\"\n",
    "Four of the data types seem to line up with what we expect. \n",
    "The columns containing strings are type object, whereas the\n",
    "column containing decimal numbers (domestic_gross) is type \n",
    "float64 and the columns containing whole number (year) is \n",
    "type int64. The data type of the foreign_gross column does\n",
    "not line up with what we expect. Data type of foreign_gross\n",
    "will need to be changed\n",
    "\n",
    "There are missing/NaN values on the studio, domestic_gross\n",
    "and foreign_gross columns. These missing values will need\n",
    "to be handled\n",
    "\n",
    "\"\"\""
   ]
  },
  {
   "cell_type": "markdown",
   "metadata": {},
   "source": [
    "Change to datatype of <span style=\"background-color: #d3d3d3; padding: 3px;\">'foreign_gross</span> to <span style=\"background-color: #d3d3d3; padding: 3px;\">float</span>"
   ]
  },
  {
   "cell_type": "code",
   "execution_count": 484,
   "metadata": {},
   "outputs": [],
   "source": [
    "bom_df['foreign_gross'] = bom_df['foreign_gross'].str.replace(',', '').astype(float)"
   ]
  },
  {
   "cell_type": "markdown",
   "metadata": {},
   "source": [
    "Confirm whether data type has changed"
   ]
  },
  {
   "cell_type": "code",
   "execution_count": 485,
   "metadata": {},
   "outputs": [
    {
     "name": "stdout",
     "output_type": "stream",
     "text": [
      "<class 'pandas.core.frame.DataFrame'>\n",
      "RangeIndex: 3387 entries, 0 to 3386\n",
      "Data columns (total 5 columns):\n",
      " #   Column          Non-Null Count  Dtype  \n",
      "---  ------          --------------  -----  \n",
      " 0   title           3387 non-null   object \n",
      " 1   studio          3382 non-null   object \n",
      " 2   domestic_gross  3359 non-null   float64\n",
      " 3   foreign_gross   2037 non-null   float64\n",
      " 4   year            3387 non-null   int64  \n",
      "dtypes: float64(2), int64(1), object(2)\n",
      "memory usage: 132.4+ KB\n"
     ]
    }
   ],
   "source": [
    "bom_df.info()"
   ]
  },
  {
   "cell_type": "markdown",
   "metadata": {},
   "source": [
    "Obtain the sum of the missing values per column"
   ]
  },
  {
   "cell_type": "code",
   "execution_count": 486,
   "metadata": {},
   "outputs": [
    {
     "data": {
      "text/plain": [
       "title                0\n",
       "studio               5\n",
       "domestic_gross      28\n",
       "foreign_gross     1350\n",
       "year                 0\n",
       "dtype: int64"
      ]
     },
     "execution_count": 486,
     "metadata": {},
     "output_type": "execute_result"
    }
   ],
   "source": [
    "bom_df.isna().sum() "
   ]
  },
  {
   "cell_type": "code",
   "execution_count": 487,
   "metadata": {},
   "outputs": [
    {
     "data": {
      "text/plain": [
       "'\\nThere are 5 missing values from studio column,\\n28 from domestic gross and 1350 from foreign_gross\\n\\n'"
      ]
     },
     "execution_count": 487,
     "metadata": {},
     "output_type": "execute_result"
    }
   ],
   "source": [
    "\"\"\"\n",
    "There are 5 missing values from studio column,\n",
    "28 from domestic gross and 1350 from foreign_gross\n",
    "\n",
    "\"\"\""
   ]
  },
  {
   "cell_type": "code",
   "execution_count": 488,
   "metadata": {},
   "outputs": [
    {
     "name": "stdout",
     "output_type": "stream",
     "text": [
      "0\n"
     ]
    }
   ],
   "source": [
    "#Check for duplicates\n",
    "duplicates=bom_df[bom_df.duplicated()] \n",
    "print(len(duplicates)) "
   ]
  },
  {
   "cell_type": "code",
   "execution_count": 489,
   "metadata": {},
   "outputs": [
    {
     "data": {
      "text/plain": [
       "'\\nThere are no duplicated rows\\n\\n'"
      ]
     },
     "execution_count": 489,
     "metadata": {},
     "output_type": "execute_result"
    }
   ],
   "source": [
    "\"\"\"\n",
    "There are no duplicated rows\n",
    "\n",
    "\"\"\""
   ]
  },
  {
   "cell_type": "code",
   "execution_count": 490,
   "metadata": {
    "scrolled": true
   },
   "outputs": [
    {
     "name": "stdout",
     "output_type": "stream",
     "text": [
      "title \n",
      " Bluebeard                     0.000590\n",
      "Saala Khadoos                 0.000295\n",
      "Exit Through the Gift Shop    0.000295\n",
      "Coriolanus                    0.000295\n",
      "Singh is Bling                0.000295\n",
      "Name: title, dtype: float64 \n",
      "\n",
      "\n",
      "studio \n",
      " IFC      0.049083\n",
      "Uni.     0.043465\n",
      "WB       0.041396\n",
      "Magn.    0.040213\n",
      "Fox      0.040213\n",
      "Name: studio, dtype: float64 \n",
      "\n",
      "\n",
      "domestic_gross \n",
      " 1100000.0    0.009527\n",
      "1000000.0    0.008931\n",
      "1300000.0    0.008931\n",
      "1200000.0    0.007443\n",
      "1400000.0    0.006847\n",
      "Name: domestic_gross, dtype: float64 \n",
      "\n",
      "\n",
      "foreign_gross \n",
      " 1200000.0    0.011291\n",
      "1100000.0    0.006873\n",
      "1900000.0    0.005891\n",
      "4200000.0    0.005891\n",
      "2500000.0    0.005400\n",
      "Name: foreign_gross, dtype: float64 \n",
      "\n",
      "\n",
      "year \n",
      " 2015    0.132861\n",
      "2016    0.128727\n",
      "2012    0.118099\n",
      "2011    0.117803\n",
      "2014    0.116622\n",
      "Name: year, dtype: float64 \n",
      "\n",
      "\n"
     ]
    }
   ],
   "source": [
    "#Check for extraneous/placeholder values\n",
    "for col in bom_df.columns:\n",
    "    print(col, '\\n', bom_df[col].value_counts(normalize=True).head(), '\\n\\n')"
   ]
  },
  {
   "cell_type": "code",
   "execution_count": 491,
   "metadata": {
    "scrolled": true
   },
   "outputs": [
    {
     "data": {
      "text/plain": [
       "'\\nThere are no placeholder values\\n\\n'"
      ]
     },
     "execution_count": 491,
     "metadata": {},
     "output_type": "execute_result"
    }
   ],
   "source": [
    "\"\"\"\n",
    "There are no placeholder values\n",
    "\n",
    "\"\"\""
   ]
  },
  {
   "cell_type": "markdown",
   "metadata": {},
   "source": [
    "## Data Preparation\n",
    "Handle missing values from the <span style=\"background-color: #d3d3d3; padding: 3px;\">'domestic_gross'</span> and <span style=\"background-color: #d3d3d3; padding: 3px;\">'foreign_gross'</span> columns\n"
   ]
  },
  {
   "cell_type": "markdown",
   "metadata": {},
   "source": [
    "1. Plot a histogram to understand the distribution of the existing values"
   ]
  },
  {
   "cell_type": "code",
   "execution_count": 492,
   "metadata": {
    "scrolled": true
   },
   "outputs": [
    {
     "name": "stdout",
     "output_type": "stream",
     "text": [
      "28745845.06698422\n",
      "1400000.0\n",
      "66982498.23736456\n"
     ]
    },
    {
     "data": {
      "image/png": "[encoded data removed]",
      "text/plain": [
       "<Figure size 432x288 with 1 Axes>"
      ]
     },
     "metadata": {
      "needs_background": "light"
     },
     "output_type": "display_data"
    }
   ],
   "source": [
    "print(bom_df['domestic_gross'].mean())\n",
    "print(bom_df['domestic_gross'].median())\n",
    "print(bom_df['domestic_gross'].std())\n",
    "\n",
    "bom_df['domestic_gross'].plot(kind='hist', bins=60)\n",
    "plt.title(\"Domestic Gross Frequency Distribution\")\n",
    "plt.show()"
   ]
  },
  {
   "cell_type": "code",
   "execution_count": 493,
   "metadata": {},
   "outputs": [
    {
     "name": "stdout",
     "output_type": "stream",
     "text": [
      "74872810.15046637\n",
      "18700000.0\n",
      "137410600.84150562\n"
     ]
    },
    {
     "data": {
      "image/png": "[encoded data removed]",
      "text/plain": [
       "<Figure size 432x288 with 1 Axes>"
      ]
     },
     "metadata": {
      "needs_background": "light"
     },
     "output_type": "display_data"
    }
   ],
   "source": [
    "print(bom_df['foreign_gross'].mean())\n",
    "print(bom_df['foreign_gross'].median())\n",
    "print(bom_df['foreign_gross'].std())\n",
    "\n",
    "bom_df['foreign_gross'].plot(kind='hist', bins=50)\n",
    "plt.title(\"Foreign Gross Frequency Distribution\")\n",
    "plt.show()"
   ]
  },
  {
   "cell_type": "code",
   "execution_count": 494,
   "metadata": {},
   "outputs": [
    {
     "data": {
      "text/plain": [
       "'\\nBoth histograms show data is skewed\\nand contain outliers therefore not\\nnormally distributed.Replacing the \\nmissing values with the respective\\nmedian values is the appropriate\\nchoice since median is less sensitive\\nto outliers\\n\\n'"
      ]
     },
     "execution_count": 494,
     "metadata": {},
     "output_type": "execute_result"
    }
   ],
   "source": [
    "\"\"\"\n",
    "Both histograms show data is skewed\n",
    "and contain outliers therefore not\n",
    "normally distributed.Replacing the \n",
    "missing values with the respective\n",
    "median values is the appropriate\n",
    "choice since median is less sensitive\n",
    "to outliers\n",
    "\n",
    "\"\"\""
   ]
  },
  {
   "cell_type": "markdown",
   "metadata": {},
   "source": [
    "2. Replace missing values with the respective median"
   ]
  },
  {
   "cell_type": "code",
   "execution_count": 495,
   "metadata": {},
   "outputs": [],
   "source": [
    "domestic_gross_median = bom_df['domestic_gross'].median()\n",
    "bom_df['domestic_gross'].fillna(domestic_gross_median, inplace=True)\n",
    "\n",
    "foreign_gross_median = bom_df['foreign_gross'].median()\n",
    "bom_df['foreign_gross'].fillna(foreign_gross_median, inplace=True)"
   ]
  },
  {
   "cell_type": "code",
   "execution_count": 496,
   "metadata": {},
   "outputs": [
    {
     "name": "stdout",
     "output_type": "stream",
     "text": [
      "<class 'pandas.core.frame.DataFrame'>\n",
      "RangeIndex: 3387 entries, 0 to 3386\n",
      "Data columns (total 5 columns):\n",
      " #   Column          Non-Null Count  Dtype  \n",
      "---  ------          --------------  -----  \n",
      " 0   title           3387 non-null   object \n",
      " 1   studio          3382 non-null   object \n",
      " 2   domestic_gross  3387 non-null   float64\n",
      " 3   foreign_gross   3387 non-null   float64\n",
      " 4   year            3387 non-null   int64  \n",
      "dtypes: float64(2), int64(1), object(2)\n",
      "memory usage: 132.4+ KB\n"
     ]
    }
   ],
   "source": [
    "#Check the summary statistics after imputing missing values\n",
    "bom_df.info()"
   ]
  },
  {
   "cell_type": "code",
   "execution_count": 497,
   "metadata": {},
   "outputs": [
    {
     "data": {
      "text/plain": [
       "'\\nThere are no missing values in the\\nforeign gross and domestic gross \\ncolumns\\n\\n'"
      ]
     },
     "execution_count": 497,
     "metadata": {},
     "output_type": "execute_result"
    }
   ],
   "source": [
    "\"\"\"\n",
    "There are no missing values in the\n",
    "foreign gross and domestic gross \n",
    "columns\n",
    "\n",
    "\"\"\""
   ]
  },
  {
   "cell_type": "markdown",
   "metadata": {},
   "source": [
    "Group years by their domestic and foreign gross to analyze the industry's performance over the years"
   ]
  },
  {
   "cell_type": "code",
   "execution_count": 498,
   "metadata": {},
   "outputs": [
    {
     "data": {
      "text/html": [
       "<div>\n",
       "<style scoped>\n",
       "    .dataframe tbody tr th:only-of-type {\n",
       "        vertical-align: middle;\n",
       "    }\n",
       "\n",
       "    .dataframe tbody tr th {\n",
       "        vertical-align: top;\n",
       "    }\n",
       "\n",
       "    .dataframe thead th {\n",
       "        text-align: right;\n",
       "    }\n",
       "</style>\n",
       "<table border=\"1\" class=\"dataframe\">\n",
       "  <thead>\n",
       "    <tr style=\"text-align: right;\">\n",
       "      <th></th>\n",
       "      <th>domestic_gross</th>\n",
       "      <th>foreign_gross</th>\n",
       "    </tr>\n",
       "    <tr>\n",
       "      <th>year</th>\n",
       "      <th></th>\n",
       "      <th></th>\n",
       "    </tr>\n",
       "  </thead>\n",
       "  <tbody>\n",
       "    <tr>\n",
       "      <th>2010</th>\n",
       "      <td>1.016393e+10</td>\n",
       "      <td>1.463606e+10</td>\n",
       "    </tr>\n",
       "    <tr>\n",
       "      <th>2011</th>\n",
       "      <td>1.006696e+10</td>\n",
       "      <td>1.765319e+10</td>\n",
       "    </tr>\n",
       "    <tr>\n",
       "      <th>2012</th>\n",
       "      <td>1.088641e+10</td>\n",
       "      <td>1.984289e+10</td>\n",
       "    </tr>\n",
       "    <tr>\n",
       "      <th>2013</th>\n",
       "      <td>1.079933e+10</td>\n",
       "      <td>1.932389e+10</td>\n",
       "    </tr>\n",
       "    <tr>\n",
       "      <th>2014</th>\n",
       "      <td>1.034334e+10</td>\n",
       "      <td>1.990787e+10</td>\n",
       "    </tr>\n",
       "    <tr>\n",
       "      <th>2015</th>\n",
       "      <td>1.105281e+10</td>\n",
       "      <td>2.004726e+10</td>\n",
       "    </tr>\n",
       "    <tr>\n",
       "      <th>2016</th>\n",
       "      <td>1.125785e+10</td>\n",
       "      <td>2.362574e+10</td>\n",
       "    </tr>\n",
       "    <tr>\n",
       "      <th>2017</th>\n",
       "      <td>1.093467e+10</td>\n",
       "      <td>2.272503e+10</td>\n",
       "    </tr>\n",
       "    <tr>\n",
       "      <th>2018</th>\n",
       "      <td>1.109121e+10</td>\n",
       "      <td>1.999899e+10</td>\n",
       "    </tr>\n",
       "  </tbody>\n",
       "</table>\n",
       "</div>"
      ],
      "text/plain": [
       "      domestic_gross  foreign_gross\n",
       "year                               \n",
       "2010    1.016393e+10   1.463606e+10\n",
       "2011    1.006696e+10   1.765319e+10\n",
       "2012    1.088641e+10   1.984289e+10\n",
       "2013    1.079933e+10   1.932389e+10\n",
       "2014    1.034334e+10   1.990787e+10\n",
       "2015    1.105281e+10   2.004726e+10\n",
       "2016    1.125785e+10   2.362574e+10\n",
       "2017    1.093467e+10   2.272503e+10\n",
       "2018    1.109121e+10   1.999899e+10"
      ]
     },
     "execution_count": 498,
     "metadata": {},
     "output_type": "execute_result"
    }
   ],
   "source": [
    "yearly_data = bom_df.groupby('year')[['domestic_gross', 'foreign_gross']].sum()\n",
    "yearly_data"
   ]
  },
  {
   "cell_type": "markdown",
   "metadata": {},
   "source": [
    "Convert values from scientic notation to numeric "
   ]
  },
  {
   "cell_type": "code",
   "execution_count": 499,
   "metadata": {},
   "outputs": [],
   "source": [
    "def format_as_currency(x):\n",
    "    return '${:,.2f}'.format(x)\n",
    "yearly_data_currency = yearly_data.applymap(format_as_currency)"
   ]
  },
  {
   "cell_type": "code",
   "execution_count": 500,
   "metadata": {},
   "outputs": [
    {
     "data": {
      "text/html": [
       "<div>\n",
       "<style scoped>\n",
       "    .dataframe tbody tr th:only-of-type {\n",
       "        vertical-align: middle;\n",
       "    }\n",
       "\n",
       "    .dataframe tbody tr th {\n",
       "        vertical-align: top;\n",
       "    }\n",
       "\n",
       "    .dataframe thead th {\n",
       "        text-align: right;\n",
       "    }\n",
       "</style>\n",
       "<table border=\"1\" class=\"dataframe\">\n",
       "  <thead>\n",
       "    <tr style=\"text-align: right;\">\n",
       "      <th></th>\n",
       "      <th>domestic_gross</th>\n",
       "      <th>foreign_gross</th>\n",
       "    </tr>\n",
       "    <tr>\n",
       "      <th>year</th>\n",
       "      <th></th>\n",
       "      <th></th>\n",
       "    </tr>\n",
       "  </thead>\n",
       "  <tbody>\n",
       "    <tr>\n",
       "      <th>2010</th>\n",
       "      <td>$10,163,926,399.00</td>\n",
       "      <td>$14,636,057,898.00</td>\n",
       "    </tr>\n",
       "    <tr>\n",
       "      <th>2011</th>\n",
       "      <td>$10,066,958,200.00</td>\n",
       "      <td>$17,653,185,996.00</td>\n",
       "    </tr>\n",
       "    <tr>\n",
       "      <th>2012</th>\n",
       "      <td>$10,886,405,997.00</td>\n",
       "      <td>$19,842,887,097.00</td>\n",
       "    </tr>\n",
       "    <tr>\n",
       "      <th>2013</th>\n",
       "      <td>$10,799,329,897.00</td>\n",
       "      <td>$19,323,894,298.00</td>\n",
       "    </tr>\n",
       "    <tr>\n",
       "      <th>2014</th>\n",
       "      <td>$10,343,338,499.00</td>\n",
       "      <td>$19,907,867,698.00</td>\n",
       "    </tr>\n",
       "    <tr>\n",
       "      <th>2015</th>\n",
       "      <td>$11,052,805,394.00</td>\n",
       "      <td>$20,047,256,413.00</td>\n",
       "    </tr>\n",
       "    <tr>\n",
       "      <th>2016</th>\n",
       "      <td>$11,257,853,097.00</td>\n",
       "      <td>$23,625,741,300.00</td>\n",
       "    </tr>\n",
       "    <tr>\n",
       "      <th>2017</th>\n",
       "      <td>$10,934,666,198.00</td>\n",
       "      <td>$22,725,033,007.00</td>\n",
       "    </tr>\n",
       "    <tr>\n",
       "      <th>2018</th>\n",
       "      <td>$11,091,209,899.00</td>\n",
       "      <td>$19,998,990,569.50</td>\n",
       "    </tr>\n",
       "  </tbody>\n",
       "</table>\n",
       "</div>"
      ],
      "text/plain": [
       "          domestic_gross       foreign_gross\n",
       "year                                        \n",
       "2010  $10,163,926,399.00  $14,636,057,898.00\n",
       "2011  $10,066,958,200.00  $17,653,185,996.00\n",
       "2012  $10,886,405,997.00  $19,842,887,097.00\n",
       "2013  $10,799,329,897.00  $19,323,894,298.00\n",
       "2014  $10,343,338,499.00  $19,907,867,698.00\n",
       "2015  $11,052,805,394.00  $20,047,256,413.00\n",
       "2016  $11,257,853,097.00  $23,625,741,300.00\n",
       "2017  $10,934,666,198.00  $22,725,033,007.00\n",
       "2018  $11,091,209,899.00  $19,998,990,569.50"
      ]
     },
     "execution_count": 500,
     "metadata": {},
     "output_type": "execute_result"
    }
   ],
   "source": [
    "yearly_data_currency"
   ]
  },
  {
   "cell_type": "code",
   "execution_count": 501,
   "metadata": {},
   "outputs": [
    {
     "data": {
      "image/png": "[encoded data removed]",
      "text/plain": [
       "<Figure size 864x432 with 1 Axes>"
      ]
     },
     "metadata": {
      "needs_background": "light"
     },
     "output_type": "display_data"
    }
   ],
   "source": [
    "# Create a line chart to visualize the results\n",
    "plt.figure(figsize=(12, 6))\n",
    "sns.set_style(\"whitegrid\")\n",
    "\n",
    "# Plot the line chart for domestic gross revenue\n",
    "sns.lineplot(data=yearly_data, x='year', y='domestic_gross', label='Domestic Gross')\n",
    "\n",
    "# Plot the line chart for foreign gross revenue\n",
    "sns.lineplot(data=yearly_data, x='year', y='foreign_gross', label='Foreign Gross')\n",
    "\n",
    "plt.title('Box Office Performance Over the Years')\n",
    "plt.xlabel('Year')\n",
    "plt.ylabel('Total Gross Revenue(Billions)')\n",
    "plt.legend()\n",
    "plt.show()"
   ]
  },
  {
   "cell_type": "code",
   "execution_count": 502,
   "metadata": {},
   "outputs": [
    {
     "data": {
      "text/html": [
       "<div>\n",
       "<style scoped>\n",
       "    .dataframe tbody tr th:only-of-type {\n",
       "        vertical-align: middle;\n",
       "    }\n",
       "\n",
       "    .dataframe tbody tr th {\n",
       "        vertical-align: top;\n",
       "    }\n",
       "\n",
       "    .dataframe thead th {\n",
       "        text-align: right;\n",
       "    }\n",
       "</style>\n",
       "<table border=\"1\" class=\"dataframe\">\n",
       "  <thead>\n",
       "    <tr style=\"text-align: right;\">\n",
       "      <th></th>\n",
       "      <th>domestic_gross</th>\n",
       "      <th>foreign_gross</th>\n",
       "    </tr>\n",
       "    <tr>\n",
       "      <th>year</th>\n",
       "      <th></th>\n",
       "      <th></th>\n",
       "    </tr>\n",
       "  </thead>\n",
       "  <tbody>\n",
       "    <tr>\n",
       "      <th>2010</th>\n",
       "      <td>3.098758e+07</td>\n",
       "      <td>4.462213e+07</td>\n",
       "    </tr>\n",
       "    <tr>\n",
       "      <th>2011</th>\n",
       "      <td>2.523047e+07</td>\n",
       "      <td>4.424357e+07</td>\n",
       "    </tr>\n",
       "    <tr>\n",
       "      <th>2012</th>\n",
       "      <td>2.721601e+07</td>\n",
       "      <td>4.960722e+07</td>\n",
       "    </tr>\n",
       "    <tr>\n",
       "      <th>2013</th>\n",
       "      <td>3.085523e+07</td>\n",
       "      <td>5.521113e+07</td>\n",
       "    </tr>\n",
       "    <tr>\n",
       "      <th>2014</th>\n",
       "      <td>2.618567e+07</td>\n",
       "      <td>5.039967e+07</td>\n",
       "    </tr>\n",
       "    <tr>\n",
       "      <th>2015</th>\n",
       "      <td>2.456179e+07</td>\n",
       "      <td>4.454946e+07</td>\n",
       "    </tr>\n",
       "    <tr>\n",
       "      <th>2016</th>\n",
       "      <td>2.582076e+07</td>\n",
       "      <td>5.418748e+07</td>\n",
       "    </tr>\n",
       "    <tr>\n",
       "      <th>2017</th>\n",
       "      <td>3.406438e+07</td>\n",
       "      <td>7.079450e+07</td>\n",
       "    </tr>\n",
       "    <tr>\n",
       "      <th>2018</th>\n",
       "      <td>3.601042e+07</td>\n",
       "      <td>6.493179e+07</td>\n",
       "    </tr>\n",
       "  </tbody>\n",
       "</table>\n",
       "</div>"
      ],
      "text/plain": [
       "      domestic_gross  foreign_gross\n",
       "year                               \n",
       "2010    3.098758e+07   4.462213e+07\n",
       "2011    2.523047e+07   4.424357e+07\n",
       "2012    2.721601e+07   4.960722e+07\n",
       "2013    3.085523e+07   5.521113e+07\n",
       "2014    2.618567e+07   5.039967e+07\n",
       "2015    2.456179e+07   4.454946e+07\n",
       "2016    2.582076e+07   5.418748e+07\n",
       "2017    3.406438e+07   7.079450e+07\n",
       "2018    3.601042e+07   6.493179e+07"
      ]
     },
     "execution_count": 502,
     "metadata": {},
     "output_type": "execute_result"
    }
   ],
   "source": [
    "yearly_data_mean = bom_df.groupby('year')[['domestic_gross', 'foreign_gross']].mean()\n",
    "yearly_data_mean"
   ]
  },
  {
   "cell_type": "code",
   "execution_count": 503,
   "metadata": {},
   "outputs": [
    {
     "data": {
      "image/png": "[encoded data removed]",
      "text/plain": [
       "<Figure size 864x432 with 1 Axes>"
      ]
     },
     "metadata": {},
     "output_type": "display_data"
    }
   ],
   "source": [
    "plt.figure(figsize=(12, 6))\n",
    "sns.set_style(\"whitegrid\")\n",
    "\n",
    "# Plot the line chart for domestic gross revenue\n",
    "sns.lineplot(data=yearly_data_mean, x='year', y='domestic_gross', label='Domestic Gross')\n",
    "\n",
    "# Plot the line chart for foreign gross revenue\n",
    "sns.lineplot(data=yearly_data_mean, x='year', y='foreign_gross', label='Foreign Gross')\n",
    "\n",
    "plt.title('Box Office Performance Over the Years')\n",
    "plt.xlabel('Year')\n",
    "plt.ylabel('Average Gross Revenue(Millions)')\n",
    "plt.legend()\n",
    "plt.show()"
   ]
  },
  {
   "cell_type": "markdown",
   "metadata": {},
   "source": [
    "## The Numbers Data"
   ]
  },
  {
   "cell_type": "code",
   "execution_count": 504,
   "metadata": {},
   "outputs": [
    {
     "data": {
      "text/html": [
       "<div>\n",
       "<style scoped>\n",
       "    .dataframe tbody tr th:only-of-type {\n",
       "        vertical-align: middle;\n",
       "    }\n",
       "\n",
       "    .dataframe tbody tr th {\n",
       "        vertical-align: top;\n",
       "    }\n",
       "\n",
       "    .dataframe thead th {\n",
       "        text-align: right;\n",
       "    }\n",
       "</style>\n",
       "<table border=\"1\" class=\"dataframe\">\n",
       "  <thead>\n",
       "    <tr style=\"text-align: right;\">\n",
       "      <th></th>\n",
       "      <th>id</th>\n",
       "      <th>release_date</th>\n",
       "      <th>movie</th>\n",
       "      <th>production_budget</th>\n",
       "      <th>domestic_gross</th>\n",
       "      <th>worldwide_gross</th>\n",
       "    </tr>\n",
       "  </thead>\n",
       "  <tbody>\n",
       "    <tr>\n",
       "      <th>0</th>\n",
       "      <td>1</td>\n",
       "      <td>Dec 18, 2009</td>\n",
       "      <td>Avatar</td>\n",
       "      <td>$425,000,000</td>\n",
       "      <td>$760,507,625</td>\n",
       "      <td>$2,776,345,279</td>\n",
       "    </tr>\n",
       "    <tr>\n",
       "      <th>1</th>\n",
       "      <td>2</td>\n",
       "      <td>May 20, 2011</td>\n",
       "      <td>Pirates of the Caribbean: On Stranger Tides</td>\n",
       "      <td>$410,600,000</td>\n",
       "      <td>$241,063,875</td>\n",
       "      <td>$1,045,663,875</td>\n",
       "    </tr>\n",
       "    <tr>\n",
       "      <th>2</th>\n",
       "      <td>3</td>\n",
       "      <td>Jun 7, 2019</td>\n",
       "      <td>Dark Phoenix</td>\n",
       "      <td>$350,000,000</td>\n",
       "      <td>$42,762,350</td>\n",
       "      <td>$149,762,350</td>\n",
       "    </tr>\n",
       "    <tr>\n",
       "      <th>3</th>\n",
       "      <td>4</td>\n",
       "      <td>May 1, 2015</td>\n",
       "      <td>Avengers: Age of Ultron</td>\n",
       "      <td>$330,600,000</td>\n",
       "      <td>$459,005,868</td>\n",
       "      <td>$1,403,013,963</td>\n",
       "    </tr>\n",
       "    <tr>\n",
       "      <th>4</th>\n",
       "      <td>5</td>\n",
       "      <td>Dec 15, 2017</td>\n",
       "      <td>Star Wars Ep. VIII: The Last Jedi</td>\n",
       "      <td>$317,000,000</td>\n",
       "      <td>$620,181,382</td>\n",
       "      <td>$1,316,721,747</td>\n",
       "    </tr>\n",
       "  </tbody>\n",
       "</table>\n",
       "</div>"
      ],
      "text/plain": [
       "   id  release_date                                        movie  \\\n",
       "0   1  Dec 18, 2009                                       Avatar   \n",
       "1   2  May 20, 2011  Pirates of the Caribbean: On Stranger Tides   \n",
       "2   3   Jun 7, 2019                                 Dark Phoenix   \n",
       "3   4   May 1, 2015                      Avengers: Age of Ultron   \n",
       "4   5  Dec 15, 2017            Star Wars Ep. VIII: The Last Jedi   \n",
       "\n",
       "  production_budget domestic_gross worldwide_gross  \n",
       "0      $425,000,000   $760,507,625  $2,776,345,279  \n",
       "1      $410,600,000   $241,063,875  $1,045,663,875  \n",
       "2      $350,000,000    $42,762,350    $149,762,350  \n",
       "3      $330,600,000   $459,005,868  $1,403,013,963  \n",
       "4      $317,000,000   $620,181,382  $1,316,721,747  "
      ]
     },
     "execution_count": 504,
     "metadata": {},
     "output_type": "execute_result"
    }
   ],
   "source": [
    "#Define file path\n",
    "file_path_tn = 'zippedData/tn.movie_budgets.csv.gz'\n",
    "\n",
    "#Open file and load data into a dataframe\n",
    "tn_df = pd.read_csv(file_path_tn)\n",
    "tn_df.head()"
   ]
  },
  {
   "cell_type": "code",
   "execution_count": 505,
   "metadata": {},
   "outputs": [
    {
     "name": "stdout",
     "output_type": "stream",
     "text": [
      "<class 'pandas.core.frame.DataFrame'>\n",
      "RangeIndex: 5782 entries, 0 to 5781\n",
      "Data columns (total 6 columns):\n",
      " #   Column             Non-Null Count  Dtype \n",
      "---  ------             --------------  ----- \n",
      " 0   id                 5782 non-null   int64 \n",
      " 1   release_date       5782 non-null   object\n",
      " 2   movie              5782 non-null   object\n",
      " 3   production_budget  5782 non-null   object\n",
      " 4   domestic_gross     5782 non-null   object\n",
      " 5   worldwide_gross    5782 non-null   object\n",
      "dtypes: int64(1), object(5)\n",
      "memory usage: 271.2+ KB\n"
     ]
    }
   ],
   "source": [
    "tn_df.info()"
   ]
  },
  {
   "cell_type": "code",
   "execution_count": 506,
   "metadata": {},
   "outputs": [
    {
     "data": {
      "text/plain": [
       "'\\nOnly two of the data types(id dtype int 64\\nand movie and release date as dtype object) \\nseem to line up with what we expect. The rest \\ndo not line up with our expectation. Columns \\ncontaining whole numbers are dtype object. \\nThese columns need to be converted to the\\nappropriate data type.\\n\\nThere are no missing/NaN values.\\n\\n'"
      ]
     },
     "execution_count": 506,
     "metadata": {},
     "output_type": "execute_result"
    }
   ],
   "source": [
    "\"\"\"\n",
    "Only two of the data types(id dtype int 64\n",
    "and movie and release date as dtype object) \n",
    "seem to line up with what we expect. The rest \n",
    "do not line up with our expectation. Columns \n",
    "containing whole numbers are dtype object. \n",
    "These columns need to be converted to the\n",
    "appropriate data type.\n",
    "\n",
    "There are no missing/NaN values.\n",
    "\n",
    "\"\"\""
   ]
  },
  {
   "cell_type": "markdown",
   "metadata": {},
   "source": [
    "Convert to appropriate data types"
   ]
  },
  {
   "cell_type": "code",
   "execution_count": 507,
   "metadata": {},
   "outputs": [],
   "source": [
    "tn_df['production_budget'] = tn_df['production_budget'].str.replace('$', '').str.replace(',','').astype(float)"
   ]
  },
  {
   "cell_type": "code",
   "execution_count": 508,
   "metadata": {},
   "outputs": [],
   "source": [
    "tn_df['domestic_gross'] = tn_df['domestic_gross'].str.replace('$', '').str.replace(',','').astype(float)"
   ]
  },
  {
   "cell_type": "code",
   "execution_count": 509,
   "metadata": {},
   "outputs": [],
   "source": [
    "tn_df['worldwide_gross'] = tn_df['worldwide_gross'].str.replace('$', '').str.replace(',','').astype(float)"
   ]
  },
  {
   "cell_type": "markdown",
   "metadata": {},
   "source": [
    "Check the summary statistics again"
   ]
  },
  {
   "cell_type": "code",
   "execution_count": 510,
   "metadata": {},
   "outputs": [
    {
     "name": "stdout",
     "output_type": "stream",
     "text": [
      "<class 'pandas.core.frame.DataFrame'>\n",
      "RangeIndex: 5782 entries, 0 to 5781\n",
      "Data columns (total 6 columns):\n",
      " #   Column             Non-Null Count  Dtype  \n",
      "---  ------             --------------  -----  \n",
      " 0   id                 5782 non-null   int64  \n",
      " 1   release_date       5782 non-null   object \n",
      " 2   movie              5782 non-null   object \n",
      " 3   production_budget  5782 non-null   float64\n",
      " 4   domestic_gross     5782 non-null   float64\n",
      " 5   worldwide_gross    5782 non-null   float64\n",
      "dtypes: float64(3), int64(1), object(2)\n",
      "memory usage: 271.2+ KB\n"
     ]
    }
   ],
   "source": [
    "tn_df.info()"
   ]
  },
  {
   "cell_type": "code",
   "execution_count": 511,
   "metadata": {},
   "outputs": [
    {
     "data": {
      "text/plain": [
       "'\\nThe data types now line up with\\nwhat we expect\\n\\n'"
      ]
     },
     "execution_count": 511,
     "metadata": {},
     "output_type": "execute_result"
    }
   ],
   "source": [
    "\"\"\"\n",
    "The data types now line up with\n",
    "what we expect\n",
    "\n",
    "\"\"\""
   ]
  },
  {
   "cell_type": "code",
   "execution_count": 512,
   "metadata": {},
   "outputs": [
    {
     "name": "stdout",
     "output_type": "stream",
     "text": [
      "0\n"
     ]
    }
   ],
   "source": [
    "#Check for duplicates\n",
    "tn_df_duplicates = tn_df[tn_df.duplicated()]\n",
    "print(len(tn_df_duplicates))"
   ]
  },
  {
   "cell_type": "code",
   "execution_count": 513,
   "metadata": {},
   "outputs": [
    {
     "data": {
      "text/plain": [
       "'\\nThere are no duplicated rows\\n\\n'"
      ]
     },
     "execution_count": 513,
     "metadata": {},
     "output_type": "execute_result"
    }
   ],
   "source": [
    "\"\"\"\n",
    "There are no duplicated rows\n",
    "\n",
    "\"\"\""
   ]
  },
  {
   "cell_type": "code",
   "execution_count": 514,
   "metadata": {},
   "outputs": [
    {
     "name": "stdout",
     "output_type": "stream",
     "text": [
      "id \n",
      " 4     0.010031\n",
      "53    0.010031\n",
      "61    0.010031\n",
      "65    0.010031\n",
      "69    0.010031\n",
      "Name: id, dtype: float64 \n",
      "\n",
      "\n",
      "release_date \n",
      " Dec 31, 2014    0.004151\n",
      "Dec 31, 2015    0.003978\n",
      "Dec 31, 2010    0.002594\n",
      "Dec 31, 2008    0.002421\n",
      "Dec 31, 2009    0.002248\n",
      "Name: release_date, dtype: float64 \n",
      "\n",
      "\n",
      "movie \n",
      " King Kong                0.000519\n",
      "Halloween                0.000519\n",
      "Home                     0.000519\n",
      "Fantastic Four           0.000346\n",
      "The Birth of a Nation    0.000346\n",
      "Name: movie, dtype: float64 \n",
      "\n",
      "\n",
      "production_budget \n",
      " 20000000.0    0.039952\n",
      "10000000.0    0.036666\n",
      "30000000.0    0.030612\n",
      "15000000.0    0.029920\n",
      "25000000.0    0.029575\n",
      "Name: production_budget, dtype: float64 \n",
      "\n",
      "\n",
      "domestic_gross \n",
      " 0.0           0.094777\n",
      "8000000.0     0.001557\n",
      "2000000.0     0.001211\n",
      "7000000.0     0.001211\n",
      "10000000.0    0.001038\n",
      "Name: domestic_gross, dtype: float64 \n",
      "\n",
      "\n",
      "worldwide_gross \n",
      " 0.0          0.063473\n",
      "8000000.0    0.001557\n",
      "7000000.0    0.001038\n",
      "2000000.0    0.001038\n",
      "9000000.0    0.000692\n",
      "Name: worldwide_gross, dtype: float64 \n",
      "\n",
      "\n"
     ]
    }
   ],
   "source": [
    "#Check for extraneous/placeholder values\n",
    "for col in tn_df.columns:\n",
    "    print(col, '\\n', tn_df[col].value_counts(normalize=True).head(), '\\n\\n')"
   ]
  },
  {
   "cell_type": "code",
   "execution_count": 515,
   "metadata": {},
   "outputs": [
    {
     "data": {
      "text/plain": [
       "'\\nThere are no placeholder values\\n\\n'"
      ]
     },
     "execution_count": 515,
     "metadata": {},
     "output_type": "execute_result"
    }
   ],
   "source": [
    "\"\"\"\n",
    "There are no placeholder values\n",
    "\n",
    "\"\"\""
   ]
  },
  {
   "cell_type": "markdown",
   "metadata": {},
   "source": [
    "## Data Preparation\n",
    "We want to find out the seasonal box office performance. Since we only have release dates, we will need to convert them to seasons and find out the number of movies released by season."
   ]
  },
  {
   "cell_type": "code",
   "execution_count": 516,
   "metadata": {},
   "outputs": [
    {
     "data": {
      "text/html": [
       "<div>\n",
       "<style scoped>\n",
       "    .dataframe tbody tr th:only-of-type {\n",
       "        vertical-align: middle;\n",
       "    }\n",
       "\n",
       "    .dataframe tbody tr th {\n",
       "        vertical-align: top;\n",
       "    }\n",
       "\n",
       "    .dataframe thead th {\n",
       "        text-align: right;\n",
       "    }\n",
       "</style>\n",
       "<table border=\"1\" class=\"dataframe\">\n",
       "  <thead>\n",
       "    <tr style=\"text-align: right;\">\n",
       "      <th></th>\n",
       "      <th>id</th>\n",
       "      <th>release_date</th>\n",
       "      <th>movie</th>\n",
       "      <th>production_budget</th>\n",
       "      <th>domestic_gross</th>\n",
       "      <th>worldwide_gross</th>\n",
       "      <th>release_month</th>\n",
       "      <th>season</th>\n",
       "    </tr>\n",
       "  </thead>\n",
       "  <tbody>\n",
       "    <tr>\n",
       "      <th>0</th>\n",
       "      <td>1</td>\n",
       "      <td>2009-12-18</td>\n",
       "      <td>Avatar</td>\n",
       "      <td>425000000.0</td>\n",
       "      <td>760507625.0</td>\n",
       "      <td>2.776345e+09</td>\n",
       "      <td>12</td>\n",
       "      <td>Winter</td>\n",
       "    </tr>\n",
       "    <tr>\n",
       "      <th>1</th>\n",
       "      <td>2</td>\n",
       "      <td>2011-05-20</td>\n",
       "      <td>Pirates of the Caribbean: On Stranger Tides</td>\n",
       "      <td>410600000.0</td>\n",
       "      <td>241063875.0</td>\n",
       "      <td>1.045664e+09</td>\n",
       "      <td>5</td>\n",
       "      <td>Spring</td>\n",
       "    </tr>\n",
       "    <tr>\n",
       "      <th>2</th>\n",
       "      <td>3</td>\n",
       "      <td>2019-06-07</td>\n",
       "      <td>Dark Phoenix</td>\n",
       "      <td>350000000.0</td>\n",
       "      <td>42762350.0</td>\n",
       "      <td>1.497624e+08</td>\n",
       "      <td>6</td>\n",
       "      <td>Summer</td>\n",
       "    </tr>\n",
       "    <tr>\n",
       "      <th>3</th>\n",
       "      <td>4</td>\n",
       "      <td>2015-05-01</td>\n",
       "      <td>Avengers: Age of Ultron</td>\n",
       "      <td>330600000.0</td>\n",
       "      <td>459005868.0</td>\n",
       "      <td>1.403014e+09</td>\n",
       "      <td>5</td>\n",
       "      <td>Spring</td>\n",
       "    </tr>\n",
       "    <tr>\n",
       "      <th>4</th>\n",
       "      <td>5</td>\n",
       "      <td>2017-12-15</td>\n",
       "      <td>Star Wars Ep. VIII: The Last Jedi</td>\n",
       "      <td>317000000.0</td>\n",
       "      <td>620181382.0</td>\n",
       "      <td>1.316722e+09</td>\n",
       "      <td>12</td>\n",
       "      <td>Winter</td>\n",
       "    </tr>\n",
       "  </tbody>\n",
       "</table>\n",
       "</div>"
      ],
      "text/plain": [
       "   id release_date                                        movie  \\\n",
       "0   1   2009-12-18                                       Avatar   \n",
       "1   2   2011-05-20  Pirates of the Caribbean: On Stranger Tides   \n",
       "2   3   2019-06-07                                 Dark Phoenix   \n",
       "3   4   2015-05-01                      Avengers: Age of Ultron   \n",
       "4   5   2017-12-15            Star Wars Ep. VIII: The Last Jedi   \n",
       "\n",
       "   production_budget  domestic_gross  worldwide_gross  release_month  season  \n",
       "0        425000000.0     760507625.0     2.776345e+09             12  Winter  \n",
       "1        410600000.0     241063875.0     1.045664e+09              5  Spring  \n",
       "2        350000000.0      42762350.0     1.497624e+08              6  Summer  \n",
       "3        330600000.0     459005868.0     1.403014e+09              5  Spring  \n",
       "4        317000000.0     620181382.0     1.316722e+09             12  Winter  "
      ]
     },
     "execution_count": 516,
     "metadata": {},
     "output_type": "execute_result"
    }
   ],
   "source": [
    "#Convert to datetime object\n",
    "tn_df['release_date'] = pd.to_datetime(tn_df['release_date'])\n",
    "\n",
    "# Extract the month from the release date\n",
    "tn_df['release_month'] = tn_df['release_date'].dt.month\n",
    "\n",
    "# Define the seasons\n",
    "seasons = {\n",
    "    1: 'Winter',\n",
    "    2: 'Winter',\n",
    "    3: 'Spring',\n",
    "    4: 'Spring',\n",
    "    5: 'Spring',\n",
    "    6: 'Summer',\n",
    "    7: 'Summer',\n",
    "    8: 'Summer',\n",
    "    9: 'Fall',\n",
    "    10: 'Fall',\n",
    "    11: 'Fall',\n",
    "    12: 'Winter'\n",
    "}\n",
    "\n",
    "# Map the months to seasons\n",
    "tn_df['season'] = tn_df['release_month'].map(seasons)\n",
    "tn_df.head()"
   ]
  },
  {
   "cell_type": "markdown",
   "metadata": {},
   "source": [
    "Create a new column <span style=\"background-color: #d3d3d3; padding: 3px;\">'total_gross'</span> that is a sum of <span style=\"background-color: #d3d3d3; padding: 3px;\">domestic_gross</span> and <span style=\"background-color: #d3d3d3; padding: 3px;\">worldwide_gross</span> "
   ]
  },
  {
   "cell_type": "code",
   "execution_count": 517,
   "metadata": {},
   "outputs": [
    {
     "data": {
      "text/html": [
       "<div>\n",
       "<style scoped>\n",
       "    .dataframe tbody tr th:only-of-type {\n",
       "        vertical-align: middle;\n",
       "    }\n",
       "\n",
       "    .dataframe tbody tr th {\n",
       "        vertical-align: top;\n",
       "    }\n",
       "\n",
       "    .dataframe thead th {\n",
       "        text-align: right;\n",
       "    }\n",
       "</style>\n",
       "<table border=\"1\" class=\"dataframe\">\n",
       "  <thead>\n",
       "    <tr style=\"text-align: right;\">\n",
       "      <th></th>\n",
       "      <th>id</th>\n",
       "      <th>release_date</th>\n",
       "      <th>movie</th>\n",
       "      <th>production_budget</th>\n",
       "      <th>domestic_gross</th>\n",
       "      <th>worldwide_gross</th>\n",
       "      <th>release_month</th>\n",
       "      <th>season</th>\n",
       "      <th>total_gross</th>\n",
       "    </tr>\n",
       "  </thead>\n",
       "  <tbody>\n",
       "    <tr>\n",
       "      <th>0</th>\n",
       "      <td>1</td>\n",
       "      <td>2009-12-18</td>\n",
       "      <td>Avatar</td>\n",
       "      <td>425000000.0</td>\n",
       "      <td>760507625.0</td>\n",
       "      <td>2.776345e+09</td>\n",
       "      <td>12</td>\n",
       "      <td>Winter</td>\n",
       "      <td>3.536853e+09</td>\n",
       "    </tr>\n",
       "    <tr>\n",
       "      <th>1</th>\n",
       "      <td>2</td>\n",
       "      <td>2011-05-20</td>\n",
       "      <td>Pirates of the Caribbean: On Stranger Tides</td>\n",
       "      <td>410600000.0</td>\n",
       "      <td>241063875.0</td>\n",
       "      <td>1.045664e+09</td>\n",
       "      <td>5</td>\n",
       "      <td>Spring</td>\n",
       "      <td>1.286728e+09</td>\n",
       "    </tr>\n",
       "    <tr>\n",
       "      <th>2</th>\n",
       "      <td>3</td>\n",
       "      <td>2019-06-07</td>\n",
       "      <td>Dark Phoenix</td>\n",
       "      <td>350000000.0</td>\n",
       "      <td>42762350.0</td>\n",
       "      <td>1.497624e+08</td>\n",
       "      <td>6</td>\n",
       "      <td>Summer</td>\n",
       "      <td>1.925247e+08</td>\n",
       "    </tr>\n",
       "    <tr>\n",
       "      <th>3</th>\n",
       "      <td>4</td>\n",
       "      <td>2015-05-01</td>\n",
       "      <td>Avengers: Age of Ultron</td>\n",
       "      <td>330600000.0</td>\n",
       "      <td>459005868.0</td>\n",
       "      <td>1.403014e+09</td>\n",
       "      <td>5</td>\n",
       "      <td>Spring</td>\n",
       "      <td>1.862020e+09</td>\n",
       "    </tr>\n",
       "    <tr>\n",
       "      <th>4</th>\n",
       "      <td>5</td>\n",
       "      <td>2017-12-15</td>\n",
       "      <td>Star Wars Ep. VIII: The Last Jedi</td>\n",
       "      <td>317000000.0</td>\n",
       "      <td>620181382.0</td>\n",
       "      <td>1.316722e+09</td>\n",
       "      <td>12</td>\n",
       "      <td>Winter</td>\n",
       "      <td>1.936903e+09</td>\n",
       "    </tr>\n",
       "  </tbody>\n",
       "</table>\n",
       "</div>"
      ],
      "text/plain": [
       "   id release_date                                        movie  \\\n",
       "0   1   2009-12-18                                       Avatar   \n",
       "1   2   2011-05-20  Pirates of the Caribbean: On Stranger Tides   \n",
       "2   3   2019-06-07                                 Dark Phoenix   \n",
       "3   4   2015-05-01                      Avengers: Age of Ultron   \n",
       "4   5   2017-12-15            Star Wars Ep. VIII: The Last Jedi   \n",
       "\n",
       "   production_budget  domestic_gross  worldwide_gross  release_month  season  \\\n",
       "0        425000000.0     760507625.0     2.776345e+09             12  Winter   \n",
       "1        410600000.0     241063875.0     1.045664e+09              5  Spring   \n",
       "2        350000000.0      42762350.0     1.497624e+08              6  Summer   \n",
       "3        330600000.0     459005868.0     1.403014e+09              5  Spring   \n",
       "4        317000000.0     620181382.0     1.316722e+09             12  Winter   \n",
       "\n",
       "    total_gross  \n",
       "0  3.536853e+09  \n",
       "1  1.286728e+09  \n",
       "2  1.925247e+08  \n",
       "3  1.862020e+09  \n",
       "4  1.936903e+09  "
      ]
     },
     "execution_count": 517,
     "metadata": {},
     "output_type": "execute_result"
    }
   ],
   "source": [
    "tn_df['total_gross'] = tn_df['domestic_gross'] + tn_df['worldwide_gross']\n",
    "tn_df.head()"
   ]
  },
  {
   "cell_type": "markdown",
   "metadata": {},
   "source": [
    "Group the seasons by the total gross "
   ]
  },
  {
   "cell_type": "code",
   "execution_count": 518,
   "metadata": {},
   "outputs": [
    {
     "data": {
      "text/plain": [
       "season\n",
       "Fall      1.710172e+11\n",
       "Spring    1.888270e+11\n",
       "Summer    2.347452e+11\n",
       "Winter    1.765027e+11\n",
       "Name: total_gross, dtype: float64"
      ]
     },
     "execution_count": 518,
     "metadata": {},
     "output_type": "execute_result"
    }
   ],
   "source": [
    "seasonal_gross = tn_df.groupby('season')['total_gross'].sum()\n",
    "seasonal_gross"
   ]
  },
  {
   "cell_type": "markdown",
   "metadata": {},
   "source": [
    "Convert values from scientific notation to numeric"
   ]
  },
  {
   "cell_type": "code",
   "execution_count": 519,
   "metadata": {},
   "outputs": [
    {
     "data": {
      "text/plain": [
       "season\n",
       "Fall      $171,017,219,386.00\n",
       "Spring    $188,827,020,842.00\n",
       "Summer    $234,745,152,275.00\n",
       "Winter    $176,502,682,403.00\n",
       "Name: total_gross, dtype: object"
      ]
     },
     "execution_count": 519,
     "metadata": {},
     "output_type": "execute_result"
    }
   ],
   "source": [
    "def format_as_currency(x):\n",
    "    return '${:,.2f}'.format(x)\n",
    "seasonal_currency = seasonal_gross.apply(format_as_currency)\n",
    "seasonal_currency"
   ]
  },
  {
   "cell_type": "code",
   "execution_count": 520,
   "metadata": {},
   "outputs": [
    {
     "data": {
      "image/png": "[encoded data removed]",
      "text/plain": [
       "<Figure size 864x432 with 1 Axes>"
      ]
     },
     "metadata": {},
     "output_type": "display_data"
    }
   ],
   "source": [
    "#Create a barplot to visualize the results\n",
    "plt.figure(figsize=(12, 6))\n",
    "sns.set_style(\"whitegrid\")\n",
    "\n",
    "sns.barplot(data=seasonal_gross.reset_index(), x=seasonal_gross.index, y=seasonal_gross.values)\n",
    "\n",
    "plt.title('Seasonal Box Office Performance')\n",
    "plt.xlabel('Season')\n",
    "plt.ylabel('Total Gross Revenue(Billions)')\n",
    "plt.show()"
   ]
  },
  {
   "cell_type": "markdown",
   "metadata": {},
   "source": [
    "# Conclusion\n",
    "Based on the analysis, the recommendations to be put forward:\n",
    "* Prioritize development and production of high-quality documentary content. Documentary is the most prevalent genre with 32,185 films in the dataset. This indicates a substantial audience interest in real-life stories, historical events, and informative content.\n",
    "* Consider creating fims that combine multiple genres. The top-rated genre combinations include \"Comedy, Documentary, Fantasy\" and \"Documentary, Family, Musical. This approach can result in unique and appealing productions that resonate with a diverse audience. \n",
    "* Prioritize the production of Action-Adventure-Sci-Fi films. This genre has the highest number of votes, indicating a significant level of interest and engagement from the audience.\n",
    "\n",
    "### Bonus\n",
    "* Given the substantial increase in foreign gross revenue from 2010 to 2018, international markets play a significant role in a film's overall success. Therefore, the studio should consider tailoring their films to international audiences as well as investing in targeted international marketing, localization, and distribution strategies to further capitalize on the global audience and maximize revenue from foreign markets.\n",
    "* Since the summer season generates the highest total gross earnings, the studio should strategically plan the release of their big-budget and highly-anticipated movies during the summer months when the box office tends to perform exceptionally well. This can maximize the studio's revenue potential and capitalize on the season's strong box office performance.\n",
    "\n",
    "### Limitation\n",
    "The data provided may not be an accurate representation of the current trends as the film industry keeps evolving"
   ]
  }
 ],
 "metadata": {
  "kernelspec": {
   "display_name": "Python (learn-env)",
   "language": "python",
   "name": "learn-env"
  },
  "language_info": {
   "codemirror_mode": {
    "name": "ipython",
    "version": 3
   },
   "file_extension": ".py",
   "mimetype": "text/x-python",
   "name": "python",
   "nbconvert_exporter": "python",
   "pygments_lexer": "ipython3",
   "version": "3.8.5"
  }
 },
 "nbformat": 4,
 "nbformat_minor": 2
}
